{
 "cells": [
  {
   "cell_type": "markdown",
   "metadata": {},
   "source": [
    "### Blood transfusion saves lives - from replacing lost blood during major surgery or a serious injury to treating various illnesses and blood disorders. Ensuring that there's enough blood in supply whenever needed is a serious challenge for the health professionals. According to WebMD, \"about 5 million Americans need a blood transfusion every year\".\n"
   ]
  },
  {
   "cell_type": "markdown",
   "metadata": {},
   "source": [
    "### AIM: To use multinomial data set to visualise the best used method or model \n",
    "### 1 Import   \n",
    "### 2 Feature Selection Technique\n",
    "### 3 Data visualisation \n",
    "### 4 Resampling\n",
    "### 5 Spliting transufition data into train and test \n",
    "### 6 Grafical Representation \n",
    "#### 6.1 Heatmaps \n",
    "#### 6.2 Histogram \n",
    "##### 6.2.1 BOXCOX \n",
    "##### 6.2.2 SQUARE ROOT \n",
    "##### 6.2.3 LOG \n",
    "##### 6.3 Violin plot \n",
    "### 7 Models: \n",
    "#### 7.1 Logistic Regression -- 1 \n",
    "#### 7.2 Random Forest -- 2 \n",
    "#### 7.3 Decision Tree -- 3 \n",
    "#### 7.4 Gaussian Naive Base -- 4 \n",
    "#### 7.5 KNeighbors -- 5  \n",
    "#### 7.6 SVM -- 6 \n",
    "#### 7.7 ADaBoost -- 7  \n",
    "#### 7.8 Gradient Boosting -- 8  \n",
    "#### 7.9 Bagging -- 9  \n",
    "### 8 Model analysis \n",
    "### 9 Model Graphical Representation \n",
    "### 10 MAX Voting \n",
    "#### 10.1 Method 1 \n",
    "#### 10.2 Method 2 \n",
    "### 11 Pickling \n"
   ]
  },
  {
   "cell_type": "code",
   "execution_count": 1,
   "metadata": {},
   "outputs": [],
   "source": [
    "import numpy as np\n",
    "import statistics\n",
    "from scipy import stats\n",
    "import pandas as pd\n",
    "import matplotlib.pyplot as plt\n",
    "import seaborn as sns\n",
    "import pickle\n",
    "%matplotlib inline"
   ]
  },
  {
   "cell_type": "code",
   "execution_count": 2,
   "metadata": {},
   "outputs": [],
   "source": [
    "from sklearn.model_selection import train_test_split\n",
    "from sklearn.metrics import accuracy_score\n",
    "from sklearn.model_selection import KFold\n",
    "from sklearn.metrics import r2_score\n",
    "from sklearn.model_selection import cross_val_score\n",
    "from sklearn.model_selection import cross_val_predict\n",
    "from sklearn.ensemble import RandomForestClassifier\n",
    "from sklearn.ensemble import VotingClassifier\n",
    "from sklearn.tree import DecisionTreeClassifier\n",
    "from sklearn.linear_model import LogisticRegression\n",
    "from sklearn.ensemble import ExtraTreesClassifier\n",
    "from sklearn import metrics\n",
    "from sklearn.neighbors import KNeighborsClassifier as KN\n",
    "from sklearn.ensemble import BaggingClassifier\n",
    "from sklearn import tree\n",
    "from sklearn.ensemble import AdaBoostClassifier\n",
    "from sklearn.ensemble import GradientBoostingClassifier\n",
    "from sklearn.svm import SVC\n",
    "from sklearn.metrics import confusion_matrix\n",
    "from sklearn.naive_bayes import GaussianNB"
   ]
  },
  {
   "cell_type": "markdown",
   "metadata": {},
   "source": [
    "##### Our dataset is from a mobile blood donation vehicle in Taiwan. The Blood Transfusion Service Center drives to different universities and collects blood as part of a blood drive. We want to predict whether or not a donor will give blood the next time the vehicle comes to campus.\n"
   ]
  },
  {
   "cell_type": "code",
   "execution_count": 3,
   "metadata": {},
   "outputs": [],
   "source": [
    "#Reading the csv data file \n",
    "#Name: Blood Transfusion Centre- UCI \n",
    "data = pd.read_csv(r\"C:\\Users\\Sandhya\\Downloads\\transfusion.csv\")"
   ]
  },
  {
   "cell_type": "markdown",
   "metadata": {},
   "source": [
    "##### Let's briefly return to our discussion of RFM model. RFM stands for Recency, Frequency and Monetary Value and it is commonly used in marketing for identifying your best customers. In our case, our customers are blood donors.\n",
    "\n",
    "#### RFMTC is a variation of the RFM model. Below is a description of what each column means in our dataset:\n",
    "\n",
    "#### R (Recency - months since the last donation)\n",
    "#### F (Frequency - total number of donation)\n",
    "#### M (Monetary - total blood donated in c.c.)\n",
    "#### T (Time - months since the first donation)\n",
    "#### a binary variable representing whether he/she donated blood in March 2007 (1 stands for donating blood; 0 stands for not donating blood)\n"
   ]
  },
  {
   "cell_type": "code",
   "execution_count": 4,
   "metadata": {},
   "outputs": [],
   "source": [
    "#To change the name of the name of the columns in the given data\n",
    "data=data.rename(columns={\"whether he/she donated blood in March 2007\":\"Present\"})\n",
    "data=data.rename(columns={\"Recency (months)\":\"Recent\"})\n",
    "data=data.rename(columns={\"Frequency (times)\":\"Frequency\"})\n",
    "data=data.rename(columns={\"Monetary (c.c. blood)\":\"AmountOfBlood\"})\n",
    "data=data.rename(columns={\"Time (months)\":\"Months\"})\n"
   ]
  },
  {
   "cell_type": "markdown",
   "metadata": {},
   "source": [
    "# 2.0 FEATURE SELECTION TECHNIQUE"
   ]
  },
  {
   "cell_type": "markdown",
   "metadata": {},
   "source": [
    "### You can get the feature importance of each feature of your dataset by using the feature importance property of the model.\n",
    "### Feature importance gives you a score for each feature of your data, the higher the score more important or relevant is the feature towards your output variable.\n",
    "### Feature importance is an inbuilt class that comes with Tree Based Classifiers, we will be using Extra Tree Classifier for extracting the top 4 features for the dataset.\n"
   ]
  },
  {
   "cell_type": "code",
   "execution_count": 5,
   "metadata": {},
   "outputs": [
    {
     "name": "stdout",
     "output_type": "stream",
     "text": [
      "[0.28897993 0.12447495 0.12922061 0.45732451]\n"
     ]
    },
    {
     "data": {
      "image/png": "[encoded data removed]",
      "text/plain": [
       "<Figure size 432x288 with 1 Axes>"
      ]
     },
     "metadata": {
      "needs_background": "light"
     },
     "output_type": "display_data"
    }
   ],
   "source": [
    "#To define a variable 'features' that has all the columns except the boolean column 'Present'\n",
    "features1=data.drop(\"Present\", axis=1)\n",
    "#To define a variable 'target' that has the boolean column 'Present'\n",
    "target1 = data[\"Present\"] \n",
    "model = ExtraTreesClassifier(n_estimators=100)\n",
    "model.fit(features1,target1)\n",
    "print(model.feature_importances_) #use inbuilt class feature_importances of tree based classifiers\n",
    "#plot graph of feature importances for better visualization\n",
    "feat_importances = pd.Series(model.feature_importances_, index=features1.columns)\n",
    "feat_importances.nlargest(1000).plot(kind='barh')\n",
    "plt.show()"
   ]
  },
  {
   "cell_type": "code",
   "execution_count": 6,
   "metadata": {},
   "outputs": [],
   "source": [
    "#WE CAN CONCLUDE FROM THE ABOVE ANALYSIS THAT FREQUENCY HAS THE LEAST WEIGHTAGE "
   ]
  },
  {
   "cell_type": "markdown",
   "metadata": {},
   "source": [
    "# 3.0 DATA VISUALISATION  "
   ]
  },
  {
   "cell_type": "code",
   "execution_count": 7,
   "metadata": {},
   "outputs": [
    {
     "data": {
      "text/html": [
       "<div>\n",
       "<style scoped>\n",
       "    .dataframe tbody tr th:only-of-type {\n",
       "        vertical-align: middle;\n",
       "    }\n",
       "\n",
       "    .dataframe tbody tr th {\n",
       "        vertical-align: top;\n",
       "    }\n",
       "\n",
       "    .dataframe thead th {\n",
       "        text-align: right;\n",
       "    }\n",
       "</style>\n",
       "<table border=\"1\" class=\"dataframe\">\n",
       "  <thead>\n",
       "    <tr style=\"text-align: right;\">\n",
       "      <th></th>\n",
       "      <th>Recent</th>\n",
       "      <th>Frequency</th>\n",
       "      <th>AmountOfBlood</th>\n",
       "      <th>Months</th>\n",
       "      <th>Present</th>\n",
       "    </tr>\n",
       "  </thead>\n",
       "  <tbody>\n",
       "    <tr>\n",
       "      <th>0</th>\n",
       "      <td>2</td>\n",
       "      <td>50</td>\n",
       "      <td>12500</td>\n",
       "      <td>98</td>\n",
       "      <td>1</td>\n",
       "    </tr>\n",
       "    <tr>\n",
       "      <th>1</th>\n",
       "      <td>0</td>\n",
       "      <td>13</td>\n",
       "      <td>3250</td>\n",
       "      <td>28</td>\n",
       "      <td>1</td>\n",
       "    </tr>\n",
       "    <tr>\n",
       "      <th>2</th>\n",
       "      <td>1</td>\n",
       "      <td>16</td>\n",
       "      <td>4000</td>\n",
       "      <td>35</td>\n",
       "      <td>1</td>\n",
       "    </tr>\n",
       "    <tr>\n",
       "      <th>3</th>\n",
       "      <td>2</td>\n",
       "      <td>20</td>\n",
       "      <td>5000</td>\n",
       "      <td>45</td>\n",
       "      <td>1</td>\n",
       "    </tr>\n",
       "    <tr>\n",
       "      <th>4</th>\n",
       "      <td>1</td>\n",
       "      <td>24</td>\n",
       "      <td>6000</td>\n",
       "      <td>77</td>\n",
       "      <td>0</td>\n",
       "    </tr>\n",
       "  </tbody>\n",
       "</table>\n",
       "</div>"
      ],
      "text/plain": [
       "   Recent  Frequency  AmountOfBlood  Months  Present\n",
       "0       2         50          12500      98        1\n",
       "1       0         13           3250      28        1\n",
       "2       1         16           4000      35        1\n",
       "3       2         20           5000      45        1\n",
       "4       1         24           6000      77        0"
      ]
     },
     "execution_count": 7,
     "metadata": {},
     "output_type": "execute_result"
    }
   ],
   "source": [
    "data.head()"
   ]
  },
  {
   "cell_type": "code",
   "execution_count": 8,
   "metadata": {},
   "outputs": [
    {
     "data": {
      "text/plain": [
       "<matplotlib.axes._subplots.AxesSubplot at 0x26da50fad00>"
      ]
     },
     "execution_count": 8,
     "metadata": {},
     "output_type": "execute_result"
    },
    {
     "data": {
      "image/png": "[encoded data removed]",
      "text/plain": [
       "<Figure size 432x288 with 2 Axes>"
      ]
     },
     "metadata": {
      "needs_background": "light"
     },
     "output_type": "display_data"
    }
   ],
   "source": [
    "sns.heatmap(data.corr(),cmap=\"YlGnBu\")"
   ]
  },
  {
   "cell_type": "code",
   "execution_count": 9,
   "metadata": {},
   "outputs": [],
   "source": [
    "#To drop the column frequency as it has the least significance as seen from the head map and feature technique \n",
    "data = data.drop('Frequency',axis=1)"
   ]
  },
  {
   "cell_type": "code",
   "execution_count": 10,
   "metadata": {},
   "outputs": [],
   "source": [
    "#To remove the missing value. Returns object with labels on given axis omitted where alternately any or all of the data are missing\n",
    "#The paarameter means that if all the values are NA then drop the label \n",
    "data = data.dropna(how='all')"
   ]
  },
  {
   "cell_type": "code",
   "execution_count": 11,
   "metadata": {},
   "outputs": [
    {
     "data": {
      "text/plain": [
       "0    570\n",
       "1    178\n",
       "Name: Present, dtype: int64"
      ]
     },
     "execution_count": 11,
     "metadata": {},
     "output_type": "execute_result"
    }
   ],
   "source": [
    "data[\"Present\"].value_counts()"
   ]
  },
  {
   "cell_type": "code",
   "execution_count": 12,
   "metadata": {},
   "outputs": [
    {
     "data": {
      "text/plain": [
       "<bound method DataFrame.sum of      Recent  AmountOfBlood  Months  Present\n",
       "0         2          12500      98        1\n",
       "1         0           3250      28        1\n",
       "2         1           4000      35        1\n",
       "3         2           5000      45        1\n",
       "4         1           6000      77        0\n",
       "..      ...            ...     ...      ...\n",
       "743      23            500      38        0\n",
       "744      21            500      52        0\n",
       "745      23            750      62        0\n",
       "746      39            250      39        0\n",
       "747      72            250      72        0\n",
       "\n",
       "[748 rows x 4 columns]>"
      ]
     },
     "execution_count": 12,
     "metadata": {},
     "output_type": "execute_result"
    }
   ],
   "source": [
    "data.sum"
   ]
  },
  {
   "cell_type": "code",
   "execution_count": 13,
   "metadata": {},
   "outputs": [
    {
     "name": "stdout",
     "output_type": "stream",
     "text": [
      "<class 'pandas.core.frame.DataFrame'>\n",
      "Int64Index: 748 entries, 0 to 747\n",
      "Data columns (total 4 columns):\n",
      " #   Column         Non-Null Count  Dtype\n",
      "---  ------         --------------  -----\n",
      " 0   Recent         748 non-null    int64\n",
      " 1   AmountOfBlood  748 non-null    int64\n",
      " 2   Months         748 non-null    int64\n",
      " 3   Present        748 non-null    int64\n",
      "dtypes: int64(4)\n",
      "memory usage: 29.2 KB\n"
     ]
    }
   ],
   "source": [
    "data.info()"
   ]
  },
  {
   "cell_type": "code",
   "execution_count": 14,
   "metadata": {},
   "outputs": [
    {
     "data": {
      "text/html": [
       "<div>\n",
       "<style scoped>\n",
       "    .dataframe tbody tr th:only-of-type {\n",
       "        vertical-align: middle;\n",
       "    }\n",
       "\n",
       "    .dataframe tbody tr th {\n",
       "        vertical-align: top;\n",
       "    }\n",
       "\n",
       "    .dataframe thead th {\n",
       "        text-align: right;\n",
       "    }\n",
       "</style>\n",
       "<table border=\"1\" class=\"dataframe\">\n",
       "  <thead>\n",
       "    <tr style=\"text-align: right;\">\n",
       "      <th></th>\n",
       "      <th>Recent</th>\n",
       "      <th>AmountOfBlood</th>\n",
       "      <th>Months</th>\n",
       "      <th>Present</th>\n",
       "    </tr>\n",
       "  </thead>\n",
       "  <tbody>\n",
       "    <tr>\n",
       "      <th>count</th>\n",
       "      <td>748.000000</td>\n",
       "      <td>748.000000</td>\n",
       "      <td>748.000000</td>\n",
       "      <td>748.000000</td>\n",
       "    </tr>\n",
       "    <tr>\n",
       "      <th>mean</th>\n",
       "      <td>9.506684</td>\n",
       "      <td>1378.676471</td>\n",
       "      <td>34.282086</td>\n",
       "      <td>0.237968</td>\n",
       "    </tr>\n",
       "    <tr>\n",
       "      <th>std</th>\n",
       "      <td>8.095396</td>\n",
       "      <td>1459.826781</td>\n",
       "      <td>24.376714</td>\n",
       "      <td>0.426124</td>\n",
       "    </tr>\n",
       "    <tr>\n",
       "      <th>min</th>\n",
       "      <td>0.000000</td>\n",
       "      <td>250.000000</td>\n",
       "      <td>2.000000</td>\n",
       "      <td>0.000000</td>\n",
       "    </tr>\n",
       "    <tr>\n",
       "      <th>25%</th>\n",
       "      <td>2.750000</td>\n",
       "      <td>500.000000</td>\n",
       "      <td>16.000000</td>\n",
       "      <td>0.000000</td>\n",
       "    </tr>\n",
       "    <tr>\n",
       "      <th>50%</th>\n",
       "      <td>7.000000</td>\n",
       "      <td>1000.000000</td>\n",
       "      <td>28.000000</td>\n",
       "      <td>0.000000</td>\n",
       "    </tr>\n",
       "    <tr>\n",
       "      <th>75%</th>\n",
       "      <td>14.000000</td>\n",
       "      <td>1750.000000</td>\n",
       "      <td>50.000000</td>\n",
       "      <td>0.000000</td>\n",
       "    </tr>\n",
       "    <tr>\n",
       "      <th>max</th>\n",
       "      <td>74.000000</td>\n",
       "      <td>12500.000000</td>\n",
       "      <td>98.000000</td>\n",
       "      <td>1.000000</td>\n",
       "    </tr>\n",
       "  </tbody>\n",
       "</table>\n",
       "</div>"
      ],
      "text/plain": [
       "           Recent  AmountOfBlood      Months     Present\n",
       "count  748.000000     748.000000  748.000000  748.000000\n",
       "mean     9.506684    1378.676471   34.282086    0.237968\n",
       "std      8.095396    1459.826781   24.376714    0.426124\n",
       "min      0.000000     250.000000    2.000000    0.000000\n",
       "25%      2.750000     500.000000   16.000000    0.000000\n",
       "50%      7.000000    1000.000000   28.000000    0.000000\n",
       "75%     14.000000    1750.000000   50.000000    0.000000\n",
       "max     74.000000   12500.000000   98.000000    1.000000"
      ]
     },
     "execution_count": 14,
     "metadata": {},
     "output_type": "execute_result"
    }
   ],
   "source": [
    "data.describe()"
   ]
  },
  {
   "cell_type": "code",
   "execution_count": 15,
   "metadata": {},
   "outputs": [
    {
     "data": {
      "text/plain": [
       "Index(['Recent', 'AmountOfBlood', 'Months', 'Present'], dtype='object')"
      ]
     },
     "execution_count": 15,
     "metadata": {},
     "output_type": "execute_result"
    }
   ],
   "source": [
    "data.columns"
   ]
  },
  {
   "cell_type": "code",
   "execution_count": 16,
   "metadata": {},
   "outputs": [
    {
     "data": {
      "text/plain": [
       "array([1, 0], dtype=int64)"
      ]
     },
     "execution_count": 16,
     "metadata": {},
     "output_type": "execute_result"
    }
   ],
   "source": [
    "data[\"Present\"].unique()"
   ]
  },
  {
   "cell_type": "markdown",
   "metadata": {},
   "source": [
    "# 4.0 RESAMPLING"
   ]
  },
  {
   "cell_type": "markdown",
   "metadata": {},
   "source": [
    "### This is a method in which the yes\\no takes are taken in equal amount so that we can get better accuracy"
   ]
  },
  {
   "cell_type": "code",
   "execution_count": 17,
   "metadata": {},
   "outputs": [],
   "source": [
    "#This method had not increased the accuracy of any of the models hence it was not used in our program \n",
    "#This has been commented for the above reason "
   ]
  },
  {
   "cell_type": "code",
   "execution_count": 18,
   "metadata": {},
   "outputs": [
    {
     "data": {
      "text/plain": [
       "0    570\n",
       "1    178\n",
       "Name: Present, dtype: int64"
      ]
     },
     "execution_count": 18,
     "metadata": {},
     "output_type": "execute_result"
    }
   ],
   "source": [
    "#BEFORE\n",
    "data.Present.value_counts()"
   ]
  },
  {
   "cell_type": "code",
   "execution_count": 119,
   "metadata": {},
   "outputs": [],
   "source": [
    "from sklearn.utils import resample\n",
    "#Since the boolean value '1' has the minority \n",
    "data_minority = data[data.Present==0]\n",
    "#Since the boolean value '0' has the majority \n",
    "data_majority = data[data.Present==1]"
   ]
  },
  {
   "cell_type": "code",
   "execution_count": 120,
   "metadata": {},
   "outputs": [],
   "source": [
    "#Resampling out data by selecting the number of samples needed \n",
    "data_majority_upsampled = resample(data_majority, replace=True,n_samples=178,random_state=42)"
   ]
  },
  {
   "cell_type": "code",
   "execution_count": 121,
   "metadata": {},
   "outputs": [],
   "source": [
    "#To concatinate \n",
    "data = pd.concat([data_minority, data_majority_upsampled])"
   ]
  },
  {
   "cell_type": "code",
   "execution_count": 122,
   "metadata": {},
   "outputs": [
    {
     "data": {
      "text/plain": [
       "1    178\n",
       "0    178\n",
       "Name: Present, dtype: int64"
      ]
     },
     "execution_count": 122,
     "metadata": {},
     "output_type": "execute_result"
    }
   ],
   "source": [
    "#AFTER\n",
    "data.Present.value_counts()"
   ]
  },
  {
   "cell_type": "markdown",
   "metadata": {},
   "source": [
    "# 5.0 SPLITING TRANSFUSION INTO TRAIN AND TEST DATASETS"
   ]
  },
  {
   "cell_type": "code",
   "execution_count": 123,
   "metadata": {},
   "outputs": [],
   "source": [
    "#To define a variable 'features' that has all the columns except the boolean column 'Present'\n",
    "features=data.drop(\"Present\", axis=1)\n",
    "#To define a variable 'target' that has the boolean column 'Present'\n",
    "target = data[\"Present\"]"
   ]
  },
  {
   "cell_type": "code",
   "execution_count": 124,
   "metadata": {},
   "outputs": [],
   "source": [
    "#To define variables that split the data in the data gets into features,target and X and Y \n",
    "X_train,X_test,Y_train,Y_test = train_test_split(features,target,test_size=0.3,random_state=101)\n",
    "#X_train variable has some rows of features to use for the train of the  machine \n",
    "#X_test variable has some rows of features to use for testing  \n",
    "#Y_train variable has some rows of target to use for the train of the  machine \n",
    "#X_train variable has some rows of target to use for testing"
   ]
  },
  {
   "cell_type": "code",
   "execution_count": 125,
   "metadata": {},
   "outputs": [
    {
     "data": {
      "text/html": [
       "<div>\n",
       "<style scoped>\n",
       "    .dataframe tbody tr th:only-of-type {\n",
       "        vertical-align: middle;\n",
       "    }\n",
       "\n",
       "    .dataframe tbody tr th {\n",
       "        vertical-align: top;\n",
       "    }\n",
       "\n",
       "    .dataframe thead th {\n",
       "        text-align: right;\n",
       "    }\n",
       "</style>\n",
       "<table border=\"1\" class=\"dataframe\">\n",
       "  <thead>\n",
       "    <tr style=\"text-align: right;\">\n",
       "      <th></th>\n",
       "      <th>Recent</th>\n",
       "      <th>AmountOfBlood</th>\n",
       "      <th>Months</th>\n",
       "    </tr>\n",
       "  </thead>\n",
       "  <tbody>\n",
       "    <tr>\n",
       "      <th>174</th>\n",
       "      <td>1.098612</td>\n",
       "      <td>250</td>\n",
       "      <td>2</td>\n",
       "    </tr>\n",
       "    <tr>\n",
       "      <th>599</th>\n",
       "      <td>2.564949</td>\n",
       "      <td>2750</td>\n",
       "      <td>39</td>\n",
       "    </tr>\n",
       "    <tr>\n",
       "      <th>382</th>\n",
       "      <td>2.708050</td>\n",
       "      <td>250</td>\n",
       "      <td>14</td>\n",
       "    </tr>\n",
       "    <tr>\n",
       "      <th>182</th>\n",
       "      <td>1.098612</td>\n",
       "      <td>1000</td>\n",
       "      <td>35</td>\n",
       "    </tr>\n",
       "    <tr>\n",
       "      <th>135</th>\n",
       "      <td>1.098612</td>\n",
       "      <td>750</td>\n",
       "      <td>19</td>\n",
       "    </tr>\n",
       "  </tbody>\n",
       "</table>\n",
       "</div>"
      ],
      "text/plain": [
       "       Recent  AmountOfBlood  Months\n",
       "174  1.098612            250       2\n",
       "599  2.564949           2750      39\n",
       "382  2.708050            250      14\n",
       "182  1.098612           1000      35\n",
       "135  1.098612            750      19"
      ]
     },
     "execution_count": 125,
     "metadata": {},
     "output_type": "execute_result"
    }
   ],
   "source": [
    "features.head()"
   ]
  },
  {
   "cell_type": "code",
   "execution_count": 126,
   "metadata": {},
   "outputs": [
    {
     "data": {
      "text/plain": [
       "(356, 4)"
      ]
     },
     "execution_count": 126,
     "metadata": {},
     "output_type": "execute_result"
    }
   ],
   "source": [
    "#To find the rows and columns of the data set \n",
    "data.shape"
   ]
  },
  {
   "cell_type": "code",
   "execution_count": 127,
   "metadata": {},
   "outputs": [
    {
     "data": {
      "text/plain": [
       "(249, 3)"
      ]
     },
     "execution_count": 127,
     "metadata": {},
     "output_type": "execute_result"
    }
   ],
   "source": [
    "#To find the rows and columns of the training set \n",
    "X_train.shape"
   ]
  },
  {
   "cell_type": "code",
   "execution_count": 128,
   "metadata": {},
   "outputs": [
    {
     "data": {
      "text/plain": [
       "(107, 3)"
      ]
     },
     "execution_count": 128,
     "metadata": {},
     "output_type": "execute_result"
    }
   ],
   "source": [
    "#To find the rows and columns of the testing set \n",
    "X_test.shape"
   ]
  },
  {
   "cell_type": "markdown",
   "metadata": {},
   "source": [
    "# 6.0 GRAPHICAL REPRESENTATION "
   ]
  },
  {
   "cell_type": "markdown",
   "metadata": {},
   "source": [
    "## 6.1 HEATMAP"
   ]
  },
  {
   "cell_type": "code",
   "execution_count": 129,
   "metadata": {},
   "outputs": [
    {
     "data": {
      "text/plain": [
       "<matplotlib.axes._subplots.AxesSubplot at 0x26da853d850>"
      ]
     },
     "execution_count": 129,
     "metadata": {},
     "output_type": "execute_result"
    },
    {
     "data": {
      "image/png": "[encoded data removed]",
      "text/plain": [
       "<Figure size 432x288 with 2 Axes>"
      ]
     },
     "metadata": {
      "needs_background": "light"
     },
     "output_type": "display_data"
    }
   ],
   "source": [
    "#To find the correlation between variables and visualising using colours in a heatmap\n",
    "sns.heatmap(data.corr(),cmap=\"YlGnBu\")"
   ]
  },
  {
   "cell_type": "code",
   "execution_count": 130,
   "metadata": {},
   "outputs": [],
   "source": [
    "#After removing frequency we can see that it has a better correlation than before "
   ]
  },
  {
   "cell_type": "code",
   "execution_count": 131,
   "metadata": {},
   "outputs": [
    {
     "data": {
      "image/png": "[encoded data removed]",
      "text/plain": [
       "<Figure size 504x360 with 2 Axes>"
      ]
     },
     "metadata": {},
     "output_type": "display_data"
    }
   ],
   "source": [
    "#To generate a mask for the upper triangle\n",
    "mask = np.zeros_like(data.corr())\n",
    "mask[np.triu_indices_from(mask)] = True\n",
    "with sns.axes_style(\"white\"):\n",
    "    #To set up the matplotlib figure\n",
    "    f, ax = plt.subplots(figsize=(7, 5))\n",
    "    #To draw the heatmap with the mask and correct aspect ratio\n",
    "    ax = sns.heatmap(data.corr(), mask=mask, vmax=.3, square=True)"
   ]
  },
  {
   "cell_type": "code",
   "execution_count": 132,
   "metadata": {},
   "outputs": [],
   "source": [
    "#Lower triangle heat map for easier understanding "
   ]
  },
  {
   "cell_type": "markdown",
   "metadata": {},
   "source": [
    "## 6.2 BARGRAPH"
   ]
  },
  {
   "cell_type": "code",
   "execution_count": 133,
   "metadata": {},
   "outputs": [
    {
     "data": {
      "text/plain": [
       "Text(0, 0.5, 'Present')"
      ]
     },
     "execution_count": 133,
     "metadata": {},
     "output_type": "execute_result"
    },
    {
     "data": {
      "image/png": "[encoded data removed]",
      "text/plain": [
       "<Figure size 432x288 with 1 Axes>"
      ]
     },
     "metadata": {
      "needs_background": "light"
     },
     "output_type": "display_data"
    }
   ],
   "source": [
    "#To visualize how many people gave blood in March 2017 depending on their recent visits\n",
    "%matplotlib inline\n",
    "pd.crosstab(data.Recent,data.Present).plot(kind='bar')\n",
    "plt.title('Peoples who gave blood with recent donation')\n",
    "plt.xlabel('Recent')\n",
    "plt.ylabel('Present')\n"
   ]
  },
  {
   "cell_type": "code",
   "execution_count": 134,
   "metadata": {},
   "outputs": [],
   "source": [
    "#To see at which rate people are prefering to donate blood for future refernce "
   ]
  },
  {
   "cell_type": "markdown",
   "metadata": {},
   "source": [
    "## 6.3  HISTOGRAM"
   ]
  },
  {
   "cell_type": "code",
   "execution_count": 135,
   "metadata": {},
   "outputs": [
    {
     "data": {
      "text/plain": [
       "(array([ 6.,  4., 88., 13., 90., 12., 53., 52., 36.,  2.]),\n",
       " array([0.        , 0.36635616, 0.73271233, 1.09906849, 1.46542466,\n",
       "        1.83178082, 2.19813699, 2.56449315, 2.93084932, 3.29720548,\n",
       "        3.66356165]),\n",
       " <a list of 10 Patch objects>)"
      ]
     },
     "execution_count": 135,
     "metadata": {},
     "output_type": "execute_result"
    },
    {
     "data": {
      "image/png": "[encoded data removed]",
      "text/plain": [
       "<Figure size 432x288 with 1 Axes>"
      ]
     },
     "metadata": {
      "needs_background": "light"
     },
     "output_type": "display_data"
    }
   ],
   "source": [
    "#To visualise using histograph on recency of the people's donation\n",
    "plt.hist(data.Recent)"
   ]
  },
  {
   "cell_type": "markdown",
   "metadata": {},
   "source": [
    "### 6.3.1 BOXCOX---only for positive data\n"
   ]
  },
  {
   "cell_type": "code",
   "execution_count": 136,
   "metadata": {},
   "outputs": [],
   "source": [
    "# This method to change the extremely scewed graph did not work as there were values of '0' which doesn't come under positive data"
   ]
  },
  {
   "cell_type": "code",
   "execution_count": 137,
   "metadata": {},
   "outputs": [],
   "source": [
    "original_data = data.Recent"
   ]
  },
  {
   "cell_type": "code",
   "execution_count": 138,
   "metadata": {},
   "outputs": [],
   "source": [
    "train,test = train_test_split(original_data, shuffle=False)"
   ]
  },
  {
   "cell_type": "code",
   "execution_count": 139,
   "metadata": {},
   "outputs": [],
   "source": [
    "#train_data,fitted_lambda = stats.boxcox(train)"
   ]
  },
  {
   "cell_type": "markdown",
   "metadata": {},
   "source": [
    "### 6.3.2 Square root "
   ]
  },
  {
   "cell_type": "code",
   "execution_count": 140,
   "metadata": {},
   "outputs": [],
   "source": [
    "# No change in the accuarcy even upon trying this method "
   ]
  },
  {
   "cell_type": "code",
   "execution_count": 141,
   "metadata": {},
   "outputs": [],
   "source": [
    "# data.Recent = data.Recent**(1/3) -- not much difference\n"
   ]
  },
  {
   "cell_type": "markdown",
   "metadata": {},
   "source": [
    "### 6.3.3 LOG "
   ]
  },
  {
   "cell_type": "code",
   "execution_count": 142,
   "metadata": {},
   "outputs": [],
   "source": [
    "# A change in the graph can be seen applying log "
   ]
  },
  {
   "cell_type": "code",
   "execution_count": 143,
   "metadata": {},
   "outputs": [
    {
     "data": {
      "text/plain": [
       "count    356.000000\n",
       "mean       1.031576\n",
       "std        0.282707\n",
       "min        0.000000\n",
       "25%        0.741276\n",
       "50%        0.959135\n",
       "75%        1.276294\n",
       "max        1.539779\n",
       "Name: Recent, dtype: float64"
      ]
     },
     "execution_count": 143,
     "metadata": {},
     "output_type": "execute_result"
    }
   ],
   "source": [
    "data.Recent = np.log(data.Recent + 1)\n",
    "data.Recent.describe()"
   ]
  },
  {
   "cell_type": "code",
   "execution_count": 144,
   "metadata": {},
   "outputs": [
    {
     "data": {
      "text/plain": [
       "(array([ 6.,  0.,  0.,  4., 88., 13., 90., 23., 94., 38.]),\n",
       " array([0.        , 0.15397795, 0.30795589, 0.46193384, 0.61591178,\n",
       "        0.76988973, 0.92386767, 1.07784562, 1.23182357, 1.38580151,\n",
       "        1.53977946]),\n",
       " <a list of 10 Patch objects>)"
      ]
     },
     "execution_count": 144,
     "metadata": {},
     "output_type": "execute_result"
    },
    {
     "data": {
      "image/png": "[encoded data removed]",
      "text/plain": [
       "<Figure size 432x288 with 1 Axes>"
      ]
     },
     "metadata": {
      "needs_background": "light"
     },
     "output_type": "display_data"
    }
   ],
   "source": [
    "plt.hist(data.Recent)"
   ]
  },
  {
   "cell_type": "code",
   "execution_count": 145,
   "metadata": {},
   "outputs": [
    {
     "data": {
      "text/plain": [
       "<matplotlib.axes._subplots.AxesSubplot at 0x26da8927a90>"
      ]
     },
     "execution_count": 145,
     "metadata": {},
     "output_type": "execute_result"
    },
    {
     "data": {
      "image/png": "[encoded data removed]",
      "text/plain": [
       "<Figure size 432x288 with 2 Axes>"
      ]
     },
     "metadata": {
      "needs_background": "light"
     },
     "output_type": "display_data"
    }
   ],
   "source": [
    "sns.heatmap(data.corr(),cmap=\"YlGnBu\")"
   ]
  },
  {
   "cell_type": "code",
   "execution_count": 146,
   "metadata": {},
   "outputs": [
    {
     "data": {
      "text/plain": [
       "(array([200.,  89.,  36.,  20.,   3.,   1.,   4.,   1.,   1.,   1.]),\n",
       " array([  250.,  1475.,  2700.,  3925.,  5150.,  6375.,  7600.,  8825.,\n",
       "        10050., 11275., 12500.]),\n",
       " <a list of 10 Patch objects>)"
      ]
     },
     "execution_count": 146,
     "metadata": {},
     "output_type": "execute_result"
    },
    {
     "data": {
      "image/png": "[encoded data removed]",
      "text/plain": [
       "<Figure size 432x288 with 1 Axes>"
      ]
     },
     "metadata": {
      "needs_background": "light"
     },
     "output_type": "display_data"
    }
   ],
   "source": [
    "#To visualise using histograph on previous amount of blood donation\n",
    "plt.hist(data.AmountOfBlood)"
   ]
  },
  {
   "cell_type": "markdown",
   "metadata": {},
   "source": [
    "## 6.4 VIOLIN PLOT"
   ]
  },
  {
   "cell_type": "code",
   "execution_count": 147,
   "metadata": {},
   "outputs": [
    {
     "data": {
      "image/png": "[encoded data removed]",
      "text/plain": [
       "<Figure size 432x288 with 1 Axes>"
      ]
     },
     "metadata": {
      "needs_background": "light"
     },
     "output_type": "display_data"
    }
   ],
   "source": [
    "#To visualise the distribution of the data and its probability density using Violin plot for the column Recent \n",
    "sns.violinplot(data['Recent'])\n",
    "sns.despine()\n",
    "#We can conclude how frequently people are donating blood "
   ]
  },
  {
   "cell_type": "code",
   "execution_count": 148,
   "metadata": {},
   "outputs": [
    {
     "data": {
      "image/png": "[encoded data removed]",
      "text/plain": [
       "<Figure size 432x288 with 1 Axes>"
      ]
     },
     "metadata": {
      "needs_background": "light"
     },
     "output_type": "display_data"
    }
   ],
   "source": [
    "#To visualise the distribution of the data and its probability density using Violin plot for the column Amount of blood\n",
    "sns.violinplot(data['AmountOfBlood'])\n",
    "sns.despine()\n",
    "#We can conclude how much amount of blood a person is willing to donate"
   ]
  },
  {
   "cell_type": "markdown",
   "metadata": {},
   "source": [
    "# 7 Models"
   ]
  },
  {
   "cell_type": "markdown",
   "metadata": {},
   "source": [
    "## 7.1 Logistic Regression -- 1"
   ]
  },
  {
   "cell_type": "markdown",
   "metadata": {},
   "source": [
    "#### Logistic regression is similar to linear regression exceptlogistic regression predicts whether something, is true or false instead of predicting something continuous, like, sighs. Also instead of fitting a line to the data logistic regression fits an s-shaped logistic function.Although, logistic regression, tells the probability that the blood is donated or not it's usually used for classification.Logistic regressions ability to provide probabilities and classify, new samples using continuous and discrete measurements makes it a popular machine learning method.One big difference between linear regression and logistic regression is how the line is fit to the data\n"
   ]
  },
  {
   "cell_type": "code",
   "execution_count": 149,
   "metadata": {},
   "outputs": [
    {
     "data": {
      "text/plain": [
       "LogisticRegression()"
      ]
     },
     "execution_count": 149,
     "metadata": {},
     "output_type": "execute_result"
    }
   ],
   "source": [
    "#Using variable modelLR for logistic Regression\n",
    "modelLR = LogisticRegression(solver='lbfgs')\n",
    "#To fit this data of training set of X and Y to the model\n",
    "modelLR.fit(X_train, Y_train)"
   ]
  },
  {
   "cell_type": "code",
   "execution_count": 150,
   "metadata": {},
   "outputs": [
    {
     "name": "stdout",
     "output_type": "stream",
     "text": [
      "Accuracy =  0.72 \n"
     ]
    },
    {
     "data": {
      "text/plain": [
       "<matplotlib.axes._subplots.AxesSubplot at 0x26da83a15b0>"
      ]
     },
     "execution_count": 150,
     "metadata": {},
     "output_type": "execute_result"
    },
    {
     "data": {
      "image/png": "[encoded data removed]",
      "text/plain": [
       "<Figure size 432x288 with 2 Axes>"
      ]
     },
     "metadata": {
      "needs_background": "light"
     },
     "output_type": "display_data"
    }
   ],
   "source": [
    "#To define the variable predLR to predict in boolean value based on the observation of the training case\n",
    "predLR= modelLR.predict(X_test)\n",
    "#To test how accurately the predition of LR matches with the original data set \n",
    "acc=accuracy_score(Y_test, predLR)\n",
    "print(\"Accuracy =  {:.2f} \".format( acc))\n",
    "y_pred = cross_val_predict(modelLR,features, target,cv=10)\n",
    "#To use a confusion matrix to describe the performance of a classification model \n",
    "#Graphical representation using colour coded heatmap \n",
    "\n",
    "sns.heatmap(confusion_matrix(y_pred,target),cmap=\"summer\",annot=True,fmt=\"3.0f\")"
   ]
  },
  {
   "cell_type": "code",
   "execution_count": 151,
   "metadata": {},
   "outputs": [
    {
     "data": {
      "text/plain": [
       "array([1, 0, 0, 1, 1, 1, 0, 0, 0, 0, 0, 1, 0, 1, 1, 0, 0, 0, 1, 1, 0, 0,\n",
       "       0, 0, 0, 1, 0, 0, 0, 1, 0, 0, 0, 0, 0, 0, 1, 1, 0, 1, 0, 0, 1, 0,\n",
       "       1, 0, 0, 0, 0, 1, 0, 0, 1, 0, 1, 0, 0, 0, 1, 1, 1, 0, 0, 1, 1, 0,\n",
       "       0, 0, 0, 0, 1, 0, 0, 0, 0, 1, 0, 0, 0, 0, 1, 0, 1, 1, 0, 0, 0, 0,\n",
       "       1, 1, 0, 1, 0, 0, 0, 0, 0, 1, 1, 1, 0, 1, 1, 0, 1, 1, 0, 0, 1, 0,\n",
       "       0, 1, 1, 0, 1, 0, 1, 0, 0, 1, 0, 1, 0, 1, 0, 1, 0, 0, 0, 1, 0, 1,\n",
       "       0, 0, 0, 0, 0, 0, 0, 0, 0, 1, 0, 0, 0, 0, 0, 1, 0, 0, 1, 0, 0, 0,\n",
       "       1, 0, 0, 0, 0, 0, 1, 1, 1, 0, 1, 1, 0, 0, 0, 1, 1, 0, 1, 1, 0, 0,\n",
       "       0, 0, 0, 1, 1, 0, 1, 1, 0, 1, 1, 0, 0, 0, 0, 1, 1, 1, 1, 1, 0, 1,\n",
       "       1, 1, 1, 1, 1, 1, 1, 1, 1, 0, 1, 0, 1, 0, 1, 1, 1, 1, 1, 1, 0, 0,\n",
       "       1, 1, 0, 1, 1, 1, 0, 1, 1, 1, 0, 0, 0, 1, 0, 1, 1, 1, 1, 0, 1, 1,\n",
       "       1, 1, 0, 1, 1, 1, 1, 1, 1, 0, 1, 1, 1, 1, 0, 1, 1, 1, 1, 1, 1, 1,\n",
       "       1, 1, 1, 1, 1, 0, 1, 1, 1, 1, 1, 1, 1, 1, 1, 1, 1, 1, 1, 1, 1, 1,\n",
       "       1, 1, 1, 1, 1, 1, 0, 0, 0, 1, 0, 0, 1, 1, 1, 1, 0, 1, 1, 1, 0, 1,\n",
       "       1, 1, 0, 1, 0, 1, 1, 1, 0, 1, 1, 1, 1, 1, 0, 1, 1, 0, 1, 1, 1, 1,\n",
       "       1, 0, 1, 0, 1, 0, 1, 1, 1, 1, 1, 1, 0, 1, 0, 1, 1, 1, 1, 1, 0, 1,\n",
       "       1, 0, 1, 0], dtype=int64)"
      ]
     },
     "execution_count": 151,
     "metadata": {},
     "output_type": "execute_result"
    }
   ],
   "source": [
    "#To show the pattern in which the output of the test cases\n",
    "y_pred"
   ]
  },
  {
   "cell_type": "code",
   "execution_count": 152,
   "metadata": {},
   "outputs": [
    {
     "name": "stdout",
     "output_type": "stream",
     "text": [
      "Cross val Score = 0.70\n"
     ]
    }
   ],
   "source": [
    "#To find the score by cross evaluation\n",
    "result_LR = cross_val_score(modelLR,features, target, cv=10, scoring=\"accuracy\" )\n",
    "print(\"Cross val Score = {:.2f}\".format(result_LR.mean()))"
   ]
  },
  {
   "cell_type": "code",
   "execution_count": 153,
   "metadata": {},
   "outputs": [
    {
     "name": "stdout",
     "output_type": "stream",
     "text": [
      "The Accuracy =  0.6703333333333333\n"
     ]
    },
    {
     "data": {
      "text/plain": [
       "<matplotlib.axes._subplots.AxesSubplot at 0x26da99f2f40>"
      ]
     },
     "execution_count": 153,
     "metadata": {},
     "output_type": "execute_result"
    },
    {
     "data": {
      "image/png": "[encoded data removed]",
      "text/plain": [
       "<Figure size 432x288 with 2 Axes>"
      ]
     },
     "metadata": {
      "needs_background": "light"
     },
     "output_type": "display_data"
    }
   ],
   "source": [
    "#To find the accuracy by cross evaluation in the training set \n",
    "trainresult_LR = cross_val_score(modelLR,X_train,Y_train,cv=10,scoring=\"accuracy\")\n",
    "print(\"The Accuracy = \", trainresult_LR.mean())\n",
    "#To use a confusion matrix to describe the performance of the trained result \n",
    "#Graphical representation using colour coded heatmap \n",
    "y_pred = cross_val_predict(modelLR,X_train,Y_train,cv=10)\n",
    "sns.heatmap(confusion_matrix(y_pred,Y_train),cmap=\"summer\",annot=True,fmt=\"3.0f\")"
   ]
  },
  {
   "cell_type": "code",
   "execution_count": 154,
   "metadata": {},
   "outputs": [
    {
     "name": "stdout",
     "output_type": "stream",
     "text": [
      "The Accuracy =  0.7\n"
     ]
    },
    {
     "data": {
      "text/plain": [
       "<matplotlib.axes._subplots.AxesSubplot at 0x26da52c7d30>"
      ]
     },
     "execution_count": 154,
     "metadata": {},
     "output_type": "execute_result"
    },
    {
     "data": {
      "image/png": "[encoded data removed]",
      "text/plain": [
       "<Figure size 432x288 with 2 Axes>"
      ]
     },
     "metadata": {
      "needs_background": "light"
     },
     "output_type": "display_data"
    }
   ],
   "source": [
    "#To find the accuracy by cross evaluation in the testing set \n",
    "testresult_LR = cross_val_score(modelLR,X_test,Y_test,cv=10,scoring=\"accuracy\")\n",
    "print(\"The Accuracy = \", testresult_LR.mean())\n",
    "#To use a confusion matrix to describe the performance of a testing set \n",
    "#Graphical representation using colour coded heatmap \n",
    "y_pred = cross_val_predict(modelLR,X_test,Y_test,cv=10)\n",
    "sns.heatmap(confusion_matrix(y_pred,Y_test),cmap=\"summer\",annot=True,fmt=\"3.0f\")"
   ]
  },
  {
   "cell_type": "markdown",
   "metadata": {},
   "source": [
    "## 7.2 Random Forest -- 2"
   ]
  },
  {
   "cell_type": "markdown",
   "metadata": {},
   "source": [
    "### Random Forests grows many classification trees. To classify a new object from an input vector, put the input vector down each of the trees in the forest. Each tree gives a classification, and we say the tree \"votes\" for that class. The forest chooses the classification having the most votes.\n"
   ]
  },
  {
   "cell_type": "code",
   "execution_count": 155,
   "metadata": {},
   "outputs": [
    {
     "name": "stdout",
     "output_type": "stream",
     "text": [
      "100 Cross val Score  0.7699206349206349\n",
      "200 Cross val Score  0.7753968253968254\n",
      "300 Cross val Score  0.766984126984127\n",
      "400 Cross val Score  0.7698412698412698\n",
      "500 Cross val Score  0.7669841269841269\n",
      "600 Cross val Score  0.7726984126984127\n",
      "700 Cross val Score  0.7643650793650794\n"
     ]
    }
   ],
   "source": [
    "for i in range (100,701,100):\n",
    "    modelRF = RandomForestClassifier(n_estimators=i)\n",
    "    modelRF.fit(X_train,Y_train)\n",
    "    result_RF = cross_val_score(modelRF,features, target, cv=10, scoring=\"accuracy\" )\n",
    "    print(i,\"Cross val Score \", result_RF.mean())"
   ]
  },
  {
   "cell_type": "code",
   "execution_count": 156,
   "metadata": {},
   "outputs": [],
   "source": [
    "#Using variable modelLR for Random Forest \n",
    "modelRF = RandomForestClassifier(n_estimators=500)"
   ]
  },
  {
   "cell_type": "code",
   "execution_count": 157,
   "metadata": {},
   "outputs": [
    {
     "data": {
      "text/plain": [
       "RandomForestClassifier(n_estimators=500)"
      ]
     },
     "execution_count": 157,
     "metadata": {},
     "output_type": "execute_result"
    }
   ],
   "source": [
    "#To fit this data of training set of X and Y to the model\n",
    "modelRF.fit(X_train,Y_train)"
   ]
  },
  {
   "cell_type": "code",
   "execution_count": 158,
   "metadata": {},
   "outputs": [
    {
     "name": "stdout",
     "output_type": "stream",
     "text": [
      "Accuracy =  0.7663551401869159\n"
     ]
    },
    {
     "data": {
      "text/plain": [
       "<matplotlib.axes._subplots.AxesSubplot at 0x26da9b64970>"
      ]
     },
     "execution_count": 158,
     "metadata": {},
     "output_type": "execute_result"
    },
    {
     "data": {
      "image/png": "[encoded data removed]",
      "text/plain": [
       "<Figure size 432x288 with 2 Axes>"
      ]
     },
     "metadata": {
      "needs_background": "light"
     },
     "output_type": "display_data"
    }
   ],
   "source": [
    "#To define the variable predRF to predict in boolean value \n",
    "predRF= modelRF.predict(X_test)\n",
    "#To test how accurately the predition of RF matches with the original data set\n",
    "acc=accuracy_score(Y_test, predRF)\n",
    "print(\"Accuracy = \", acc)\n",
    "#To use a confusion matrix to describe the performance of a classification model \n",
    "#Graphical representation using colour coded heatmap \n",
    "y_pred = cross_val_predict(modelRF,features, target,cv=10)\n",
    "sns.heatmap(confusion_matrix(y_pred,target),cmap=\"summer\",annot=True,fmt=\"3.0f\")"
   ]
  },
  {
   "cell_type": "code",
   "execution_count": 159,
   "metadata": {},
   "outputs": [
    {
     "name": "stdout",
     "output_type": "stream",
     "text": [
      "Cross val Score  0.7725396825396825\n"
     ]
    }
   ],
   "source": [
    "#To find the score by cross evaluation\n",
    "result_RF = cross_val_score(modelRF,features, target, cv=10, scoring=\"accuracy\" )\n",
    "print(\"Cross val Score \", result_RF.mean())"
   ]
  },
  {
   "cell_type": "code",
   "execution_count": 160,
   "metadata": {},
   "outputs": [
    {
     "name": "stdout",
     "output_type": "stream",
     "text": [
      "The Accuracy =  0.747\n"
     ]
    },
    {
     "data": {
      "text/plain": [
       "<matplotlib.axes._subplots.AxesSubplot at 0x26daabd8c40>"
      ]
     },
     "execution_count": 160,
     "metadata": {},
     "output_type": "execute_result"
    },
    {
     "data": {
      "image/png": "[encoded data removed]",
      "text/plain": [
       "<Figure size 432x288 with 2 Axes>"
      ]
     },
     "metadata": {
      "needs_background": "light"
     },
     "output_type": "display_data"
    }
   ],
   "source": [
    "#To find the accuracy by cross evaluation in the training set \n",
    "trainresult_RF = cross_val_score(modelRF,X_train,Y_train,cv=10,scoring=\"accuracy\")\n",
    "print(\"The Accuracy = \", trainresult_RF.mean())\n",
    "#To use a confusion matrix to describe the performance of the trained result \n",
    "#Graphical representation using colour coded heatmap \n",
    "y_pred = cross_val_predict(modelRF,X_train,Y_train,cv=10)\n",
    "sns.heatmap(confusion_matrix(y_pred,Y_train),cmap=\"summer\",annot=True,fmt=\"3.0f\")"
   ]
  },
  {
   "cell_type": "code",
   "execution_count": 161,
   "metadata": {},
   "outputs": [
    {
     "name": "stdout",
     "output_type": "stream",
     "text": [
      "The Accuracy =  0.6909090909090909\n"
     ]
    },
    {
     "data": {
      "text/plain": [
       "<matplotlib.axes._subplots.AxesSubplot at 0x26da99e0b20>"
      ]
     },
     "execution_count": 161,
     "metadata": {},
     "output_type": "execute_result"
    },
    {
     "data": {
      "image/png": "[encoded data removed]",
      "text/plain": [
       "<Figure size 432x288 with 2 Axes>"
      ]
     },
     "metadata": {
      "needs_background": "light"
     },
     "output_type": "display_data"
    }
   ],
   "source": [
    "#To find the accuracy by cross evaluation in the testing set\n",
    "testresult_RF = cross_val_score(modelRF,X_test,Y_test,cv=10,scoring=\"accuracy\")\n",
    "print(\"The Accuracy = \", testresult_RF.mean())\n",
    "#To use a confusion matrix to describe the performance of a testing set \n",
    "#Graphical representation using colour coded heatmap\n",
    "y_pred = cross_val_predict(modelRF,X_test,Y_test,cv=10)\n",
    "sns.heatmap(confusion_matrix(y_pred,Y_test),cmap=\"summer\",annot=True,fmt=\"3.0f\")"
   ]
  },
  {
   "cell_type": "markdown",
   "metadata": {},
   "source": [
    "## 7.3 Decision Tree -- 3"
   ]
  },
  {
   "cell_type": "markdown",
   "metadata": {},
   "source": [
    "### A decision tree is a flowchart-like structure in which each internal node represents a “test” on an attribute (e.g. whether a coin flip comes up heads or tails), each branch represents the outcome of the test, and each leaf node represents a class label (decision taken after computing all attributes) \n"
   ]
  },
  {
   "cell_type": "code",
   "execution_count": 162,
   "metadata": {},
   "outputs": [
    {
     "data": {
      "text/plain": [
       "DecisionTreeClassifier(max_features='auto', min_samples_split=10)"
      ]
     },
     "execution_count": 162,
     "metadata": {},
     "output_type": "execute_result"
    }
   ],
   "source": [
    "#Using variable modelDT for Decision Tree\n",
    "from sklearn.tree import DecisionTreeClassifier\n",
    "modelDT = DecisionTreeClassifier(criterion=\"gini\", min_samples_split=10, min_samples_leaf=1,max_features=\"auto\")\n",
    "#To fit this data of training set of X and Y to the model\n",
    "modelDT.fit(X_train, Y_train)"
   ]
  },
  {
   "cell_type": "code",
   "execution_count": 163,
   "metadata": {},
   "outputs": [
    {
     "name": "stdout",
     "output_type": "stream",
     "text": [
      "Accuracy = 0.68\n"
     ]
    }
   ],
   "source": [
    "#To define the variable pred_Tree to predict in boolean value \n",
    "pred_Tree = modelDT.predict(X_test)\n",
    "#To test how accurately the predition of LR matches with the original data set\n",
    "accDT= accuracy_score(pred_Tree, Y_test)\n",
    "print(\"Accuracy = {:.2}\".format(accDT))"
   ]
  },
  {
   "cell_type": "code",
   "execution_count": 164,
   "metadata": {},
   "outputs": [
    {
     "name": "stdout",
     "output_type": "stream",
     "text": [
      "Result of mean using K-fold 0.71\n"
     ]
    },
    {
     "name": "stderr",
     "output_type": "stream",
     "text": [
      "C:\\Users\\Sandhya\\Anaconda3\\lib\\site-packages\\sklearn\\model_selection\\_split.py:293: FutureWarning: Setting a random_state has no effect since shuffle is False. This will raise an error in 0.24. You should leave random_state to its default (None), or set shuffle=True.\n",
      "  warnings.warn(\n"
     ]
    }
   ],
   "source": [
    "#To use k-Fold for cross validation Cross-Validation\n",
    "kfold = KFold(n_splits=10, random_state=22)\n",
    "result_tree = cross_val_score(modelDT,features, target, cv=10, scoring=\"accuracy\" )\n",
    "print(\"Result of mean using K-fold {:.2}\".format(result_tree.mean()))"
   ]
  },
  {
   "cell_type": "code",
   "execution_count": 165,
   "metadata": {},
   "outputs": [
    {
     "data": {
      "text/plain": [
       "<matplotlib.axes._subplots.AxesSubplot at 0x26da9b84c70>"
      ]
     },
     "execution_count": 165,
     "metadata": {},
     "output_type": "execute_result"
    },
    {
     "data": {
      "image/png": "[encoded data removed]",
      "text/plain": [
       "<Figure size 432x288 with 2 Axes>"
      ]
     },
     "metadata": {
      "needs_background": "light"
     },
     "output_type": "display_data"
    }
   ],
   "source": [
    "#To use a confusion matrix to describe the performance of a classification model \n",
    "#Graphical representation using colour coded heatmap \n",
    "y_pred = cross_val_predict(modelDT,features,target,cv=10)\n",
    "sns.heatmap(confusion_matrix(y_pred,target),cmap=\"summer\",annot=True,fmt=\"3.0f\")"
   ]
  },
  {
   "cell_type": "code",
   "execution_count": null,
   "metadata": {},
   "outputs": [],
   "source": []
  },
  {
   "cell_type": "code",
   "execution_count": 166,
   "metadata": {},
   "outputs": [
    {
     "name": "stdout",
     "output_type": "stream",
     "text": [
      "0.6944999999999999\n"
     ]
    },
    {
     "data": {
      "text/plain": [
       "<matplotlib.axes._subplots.AxesSubplot at 0x26daace5340>"
      ]
     },
     "execution_count": 166,
     "metadata": {},
     "output_type": "execute_result"
    },
    {
     "data": {
      "image/png": "[encoded data removed]",
      "text/plain": [
       "<Figure size 432x288 with 2 Axes>"
      ]
     },
     "metadata": {
      "needs_background": "light"
     },
     "output_type": "display_data"
    }
   ],
   "source": [
    "#To find the accuracy by cross evaluation in the training set \n",
    "trainresult_tree = cross_val_score(modelDT,X_train, Y_train, cv=10, scoring=\"accuracy\" )\n",
    "print(trainresult_tree.mean())\n",
    "#To use a confusion matrix to describe the performance of the trained result \n",
    "#Graphical representation using colour coded heatmap \n",
    "y_pred = cross_val_predict(modelDT,X_train,Y_train,cv=10)\n",
    "sns.heatmap(confusion_matrix(y_pred,Y_train),cmap=\"summer\",annot=True,fmt=\"3.0f\")"
   ]
  },
  {
   "cell_type": "code",
   "execution_count": 167,
   "metadata": {},
   "outputs": [
    {
     "name": "stdout",
     "output_type": "stream",
     "text": [
      "0.6154545454545455\n"
     ]
    },
    {
     "data": {
      "text/plain": [
       "<matplotlib.axes._subplots.AxesSubplot at 0x26daad69a60>"
      ]
     },
     "execution_count": 167,
     "metadata": {},
     "output_type": "execute_result"
    },
    {
     "data": {
      "image/png": "[encoded data removed]",
      "text/plain": [
       "<Figure size 432x288 with 2 Axes>"
      ]
     },
     "metadata": {
      "needs_background": "light"
     },
     "output_type": "display_data"
    }
   ],
   "source": [
    "#To find the accuracy by cross evaluation in the testing set\n",
    "testresult_tree = cross_val_score(modelDT,X_test, Y_test, cv=10, scoring=\"accuracy\" )\n",
    "print(testresult_tree.mean())\n",
    "#To use a confusion matrix to describe the performance of a testing set \n",
    "#Graphical representation using colour coded heatmap\n",
    "y_pred = cross_val_predict(modelDT,X_test,Y_test,cv=10)\n",
    "sns.heatmap(confusion_matrix(y_pred,Y_test),cmap=\"summer\",annot=True,fmt=\"3.0f\")"
   ]
  },
  {
   "cell_type": "markdown",
   "metadata": {},
   "source": [
    "## 7.4 Gaussian Naive Base -- 4"
   ]
  },
  {
   "cell_type": "markdown",
   "metadata": {},
   "source": [
    "## P(h|d) = (P(d|h) * P(h)) / P(d)\n",
    "### Naive Bayes can be extended to real-valued attributes, most commonly by assuming a Gaussian distribution.\n",
    "### This extension of naive Bayes is called Gaussian Naive Bayes. Other functions can be used to estimate the distribution of the data, but the Gaussian (or Normal distribution) is the easiest to work with because you only need to estimate the mean and the standard deviation from your training data."
   ]
  },
  {
   "cell_type": "code",
   "execution_count": 168,
   "metadata": {},
   "outputs": [
    {
     "name": "stdout",
     "output_type": "stream",
     "text": [
      "Accuracy  0.7383177570093458\n",
      "cross val score  0.6934126984126985\n"
     ]
    },
    {
     "data": {
      "text/plain": [
       "<matplotlib.axes._subplots.AxesSubplot at 0x26daadddb50>"
      ]
     },
     "execution_count": 168,
     "metadata": {},
     "output_type": "execute_result"
    },
    {
     "data": {
      "image/png": "[encoded data removed]",
      "text/plain": [
       "<Figure size 432x288 with 2 Axes>"
      ]
     },
     "metadata": {
      "needs_background": "light"
     },
     "output_type": "display_data"
    }
   ],
   "source": [
    "#Using variable modelNB for Gaussian Naive Base  \n",
    "modelNB = GaussianNB()\n",
    "#To fit this data of training set of X and Y to the model\n",
    "modelNB.fit(X_train,Y_train)\n",
    "#To define the variable pred_nb to predict in boolean value \n",
    "pred_nb = modelNB.predict(X_test)\n",
    "acc1 = accuracy_score(pred_nb, Y_test)\n",
    "print(\"Accuracy \", acc1)\n",
    "\n",
    "#To find the score by cross evaluation\n",
    "result_NB = cross_val_score(modelNB, features, target, cv=10,scoring=\"accuracy\")\n",
    "print(\"cross val score \", result_NB.mean())\n",
    "\n",
    "#To use a confusion matrix to describe the performance of a classification model \n",
    "#Graphical representation using colour coded heatmap \n",
    "\n",
    "y_pred = cross_val_predict(modelNB, features, target,cv=10)\n",
    "sns.heatmap(confusion_matrix(y_pred,target),cmap=\"summer\",annot=True,fmt=\"3.0f\")"
   ]
  },
  {
   "cell_type": "code",
   "execution_count": 169,
   "metadata": {},
   "outputs": [
    {
     "name": "stdout",
     "output_type": "stream",
     "text": [
      "The Accuracy =  0.6861666666666666\n"
     ]
    },
    {
     "data": {
      "text/plain": [
       "<matplotlib.axes._subplots.AxesSubplot at 0x26daae68310>"
      ]
     },
     "execution_count": 169,
     "metadata": {},
     "output_type": "execute_result"
    },
    {
     "data": {
      "image/png": "[encoded data removed]",
      "text/plain": [
       "<Figure size 432x288 with 2 Axes>"
      ]
     },
     "metadata": {
      "needs_background": "light"
     },
     "output_type": "display_data"
    }
   ],
   "source": [
    "#To find the accuracy by cross evaluation in the training set \n",
    "trainresult_NB = cross_val_score(modelNB,X_train,Y_train,cv=10,scoring=\"accuracy\")\n",
    "print(\"The Accuracy = \", trainresult_NB.mean())\n",
    "#To use a confusion matrix to describe the performance of the trained result \n",
    "#Graphical representation using colour coded heatmap \n",
    "y_pred = cross_val_predict(modelNB,X_train,Y_train,cv=10)\n",
    "sns.heatmap(confusion_matrix(y_pred,Y_train),cmap=\"summer\",annot=True,fmt=\"3.0f\")"
   ]
  },
  {
   "cell_type": "code",
   "execution_count": 170,
   "metadata": {},
   "outputs": [
    {
     "name": "stdout",
     "output_type": "stream",
     "text": [
      "The Accuracy =  0.709090909090909\n"
     ]
    },
    {
     "data": {
      "text/plain": [
       "<matplotlib.axes._subplots.AxesSubplot at 0x26daaf030d0>"
      ]
     },
     "execution_count": 170,
     "metadata": {},
     "output_type": "execute_result"
    },
    {
     "data": {
      "image/png": "[encoded data removed]",
      "text/plain": [
       "<Figure size 432x288 with 2 Axes>"
      ]
     },
     "metadata": {
      "needs_background": "light"
     },
     "output_type": "display_data"
    }
   ],
   "source": [
    "#To find the accuracy by cross evaluation in the testing set\n",
    "testresult_NB = cross_val_score(modelNB,X_test,Y_test,cv=10,scoring=\"accuracy\")\n",
    "print(\"The Accuracy = \", testresult_NB.mean())\n",
    "#To use a confusion matrix to describe the performance of a testing set \n",
    "#Graphical representation using colour coded heatmap\n",
    "y_pred = cross_val_predict(modelNB,X_test,Y_test,cv=10)\n",
    "sns.heatmap(confusion_matrix(y_pred,Y_test),cmap=\"summer\",annot=True,fmt=\"3.0f\")"
   ]
  },
  {
   "cell_type": "markdown",
   "metadata": {},
   "source": [
    "## 7.5 KNC -- 5"
   ]
  },
  {
   "cell_type": "markdown",
   "metadata": {},
   "source": [
    "### In k-NN classification, the output is a class membership. An object is classified by a plurality vote of its neighbors, with the object being assigned to the class most common among its k nearest neighbors (k is a positive integer, typically small). If k = 1, then the object is simply assigned to the class of that single nearest neighbor."
   ]
  },
  {
   "cell_type": "code",
   "execution_count": 171,
   "metadata": {},
   "outputs": [
    {
     "name": "stdout",
     "output_type": "stream",
     "text": [
      "2 The cross val score =  0.6855555555555555\n",
      "3 The cross val score =  0.7023809523809523\n",
      "4 The cross val score =  0.6657936507936507\n",
      "5 The cross val score =  0.6826190476190476\n",
      "6 The cross val score =  0.6403968253968253\n",
      "7 The cross val score =  0.6518253968253969\n",
      "8 The cross val score =  0.6519841269841271\n",
      "9 The cross val score =  0.6407142857142857\n",
      "10 The cross val score =  0.6578571428571429\n",
      "11 The cross val score =  0.657936507936508\n",
      "12 The cross val score =  0.6382539682539681\n",
      "13 The cross val score =  0.6411904761904761\n",
      "14 The cross val score =  0.6494444444444445\n",
      "15 The cross val score =  0.6294444444444445\n",
      "16 The cross val score =  0.6322222222222222\n",
      "17 The cross val score =  0.6296031746031747\n",
      "18 The cross val score =  0.6126984126984126\n",
      "19 The cross val score =  0.6097619047619048\n",
      "20 The cross val score =  0.6065873015873016\n",
      "21 The cross val score =  0.6125396825396825\n",
      "22 The cross val score =  0.5815079365079365\n",
      "23 The cross val score =  0.575952380952381\n",
      "24 The cross val score =  0.5649206349206348\n",
      "25 The cross val score =  0.5676190476190476\n",
      "26 The cross val score =  0.5646031746031746\n",
      "27 The cross val score =  0.5502380952380953\n",
      "28 The cross val score =  0.5815079365079365\n",
      "29 The cross val score =  0.575952380952381\n",
      "30 The cross val score =  0.5871428571428571\n",
      "31 The cross val score =  0.5956349206349205\n",
      "32 The cross val score =  0.6067460317460317\n",
      "33 The cross val score =  0.6011904761904762\n",
      "34 The cross val score =  0.6011904761904762\n",
      "35 The cross val score =  0.6152380952380951\n",
      "36 The cross val score =  0.6152380952380951\n",
      "37 The cross val score =  0.6181746031746032\n",
      "38 The cross val score =  0.6207142857142858\n",
      "39 The cross val score =  0.6095238095238095\n"
     ]
    }
   ],
   "source": [
    "for i in range(2,40):\n",
    "    modelKN = KN(n_neighbors =i)\n",
    "    modelKN.fit(X_train,Y_train)\n",
    "    pred_Knn = modelKN.predict(X_test)\n",
    "    acc1= accuracy_score(pred_Knn,Y_test)\n",
    "    result_knn= cross_val_score(modelKN,features,target,cv=10,scoring=\"accuracy\")\n",
    "    print(i, \"The cross val score = \", result_knn.mean())"
   ]
  },
  {
   "cell_type": "code",
   "execution_count": 172,
   "metadata": {},
   "outputs": [
    {
     "name": "stdout",
     "output_type": "stream",
     "text": [
      "The Accuracy =  0.5887850467289719\n",
      "The cross val score =  0.6494444444444445\n"
     ]
    },
    {
     "data": {
      "text/plain": [
       "<matplotlib.axes._subplots.AxesSubplot at 0x26daaf93a00>"
      ]
     },
     "execution_count": 172,
     "metadata": {},
     "output_type": "execute_result"
    },
    {
     "data": {
      "image/png": "[encoded data removed]",
      "text/plain": [
       "<Figure size 432x288 with 2 Axes>"
      ]
     },
     "metadata": {
      "needs_background": "light"
     },
     "output_type": "display_data"
    }
   ],
   "source": [
    "#Using variable modelKN for KNC\n",
    "modelKN = KN(n_neighbors =14)\n",
    "#To fit this data of training set of X and Y to the model\n",
    "modelKN.fit(X_train,Y_train)\n",
    "#To define the variable pred_Knn to predict in boolean value \n",
    "pred_Knn = modelKN.predict(X_test)\n",
    "#To test how accurately the predition of LR matches with the original data set\n",
    "acc1= accuracy_score(pred_Knn,Y_test)\n",
    "print(\"The Accuracy = \", acc1)\n",
    "#To find the score by cross evaluation\n",
    "result_knn= cross_val_score(modelKN,features,target,cv=10,scoring=\"accuracy\")\n",
    "print(\"The cross val score = \", result_knn.mean())\n",
    "#To use a confusion matrix to describe the performance of a classification model \n",
    "#Graphical representation using colour coded heatmap\n",
    "y_pred = cross_val_predict(modelKN,features, target,cv=10)\n",
    "sns.heatmap(confusion_matrix(y_pred,target),cmap=\"summer\",annot=True,fmt=\"3.0f\")"
   ]
  },
  {
   "cell_type": "code",
   "execution_count": 173,
   "metadata": {},
   "outputs": [
    {
     "name": "stdout",
     "output_type": "stream",
     "text": [
      "The Accuracy =  0.5780000000000001\n"
     ]
    },
    {
     "data": {
      "text/plain": [
       "<matplotlib.axes._subplots.AxesSubplot at 0x26daaf6b430>"
      ]
     },
     "execution_count": 173,
     "metadata": {},
     "output_type": "execute_result"
    },
    {
     "data": {
      "image/png": "[encoded data removed]",
      "text/plain": [
       "<Figure size 432x288 with 2 Axes>"
      ]
     },
     "metadata": {
      "needs_background": "light"
     },
     "output_type": "display_data"
    }
   ],
   "source": [
    "#To find the accuracy by cross evaluation in the training set \n",
    "trainresult_KN = cross_val_score(modelKN,X_train,Y_train,cv=10,scoring=\"accuracy\")\n",
    "print(\"The Accuracy = \", trainresult_KN.mean())\n",
    "#To use a confusion matrix to describe the performance of the trained result \n",
    "#Graphical representation using colour coded heatmap \n",
    "y_pred = cross_val_predict(modelKN,X_train,Y_train,cv=10)\n",
    "sns.heatmap(confusion_matrix(y_pred,Y_train),cmap=\"summer\",annot=True,fmt=\"3.0f\")"
   ]
  },
  {
   "cell_type": "code",
   "execution_count": 174,
   "metadata": {},
   "outputs": [
    {
     "name": "stdout",
     "output_type": "stream",
     "text": [
      "The Accuracy =  0.6090909090909091\n"
     ]
    },
    {
     "data": {
      "text/plain": [
       "<matplotlib.axes._subplots.AxesSubplot at 0x26dab0ae8e0>"
      ]
     },
     "execution_count": 174,
     "metadata": {},
     "output_type": "execute_result"
    },
    {
     "data": {
      "image/png": "[encoded data removed]",
      "text/plain": [
       "<Figure size 432x288 with 2 Axes>"
      ]
     },
     "metadata": {
      "needs_background": "light"
     },
     "output_type": "display_data"
    }
   ],
   "source": [
    "#To find the accuracy by cross evaluation in the testing set\n",
    "testresult_KN = cross_val_score(modelKN,X_test,Y_test,cv=10,scoring=\"accuracy\")\n",
    "print(\"The Accuracy = \", testresult_KN.mean())\n",
    "#To use a confusion matrix to describe the performance of a testing set \n",
    "#Graphical representation using colour coded heatmap\n",
    "y_pred = cross_val_predict(modelKN,X_test,Y_test,cv=10)\n",
    "sns.heatmap(confusion_matrix(y_pred,Y_test),cmap=\"summer\",annot=True,fmt=\"3.0f\")"
   ]
  },
  {
   "cell_type": "code",
   "execution_count": 175,
   "metadata": {},
   "outputs": [],
   "source": [
    "pred03=modelKN.predict(X_train)"
   ]
  },
  {
   "cell_type": "code",
   "execution_count": 176,
   "metadata": {},
   "outputs": [],
   "source": [
    "pred04=modelKN.predict(X_test)"
   ]
  },
  {
   "cell_type": "code",
   "execution_count": 177,
   "metadata": {},
   "outputs": [],
   "source": [
    "accKN=[]\n",
    "for i in range(3,100,3):\n",
    "    model = KN(n_neighbors=i)\n",
    "    model.fit(X_train, Y_train)\n",
    "    train_acc = np.mean(pred03 == Y_train)\n",
    "    test_acc = np.mean(pred04== Y_test)\n",
    "    accKN.append([train_acc, test_acc])"
   ]
  },
  {
   "cell_type": "code",
   "execution_count": 178,
   "metadata": {},
   "outputs": [
    {
     "data": {
      "text/plain": [
       "<matplotlib.legend.Legend at 0x26da8927250>"
      ]
     },
     "execution_count": 178,
     "metadata": {},
     "output_type": "execute_result"
    },
    {
     "data": {
      "image/png": "[encoded data removed]",
      "text/plain": [
       "<Figure size 432x288 with 1 Axes>"
      ]
     },
     "metadata": {
      "needs_background": "light"
     },
     "output_type": "display_data"
    }
   ],
   "source": [
    "plt.plot(np.arange(3,100,3),[i[0] for i in accKN], \"go-\")\n",
    "plt.legend([\"trian\", \"test\"])"
   ]
  },
  {
   "cell_type": "code",
   "execution_count": 179,
   "metadata": {},
   "outputs": [
    {
     "data": {
      "text/plain": [
       "<matplotlib.legend.Legend at 0x26daaf5d910>"
      ]
     },
     "execution_count": 179,
     "metadata": {},
     "output_type": "execute_result"
    },
    {
     "data": {
      "image/png": "[encoded data removed]",
      "text/plain": [
       "<Figure size 432x288 with 1 Axes>"
      ]
     },
     "metadata": {
      "needs_background": "light"
     },
     "output_type": "display_data"
    }
   ],
   "source": [
    "plt.plot(np.arange(3,100,3),[i[1] for i in accKN], \"bo-\")\n",
    "plt.legend([\"trian\", \"test\"])"
   ]
  },
  {
   "cell_type": "markdown",
   "metadata": {},
   "source": [
    "## 7.6 SVC -- 6"
   ]
  },
  {
   "cell_type": "markdown",
   "metadata": {},
   "source": [
    "### A support vector machine (SVM) is a supervised machine learning model that uses classification algorithms for two-group classification problems. After giving an SVM model sets of labeled training data for each category, they're able to categorize new text. So you're working on a text classification problem.\n"
   ]
  },
  {
   "cell_type": "code",
   "execution_count": 180,
   "metadata": {},
   "outputs": [
    {
     "name": "stdout",
     "output_type": "stream",
     "text": [
      "Accuracy 0.6822429906542056\n",
      "Cross_val score 0.6857142857142857\n"
     ]
    },
    {
     "data": {
      "text/plain": [
       "<matplotlib.axes._subplots.AxesSubplot at 0x26dab1eb910>"
      ]
     },
     "execution_count": 180,
     "metadata": {},
     "output_type": "execute_result"
    },
    {
     "data": {
      "image/png": "[encoded data removed]",
      "text/plain": [
       "<Figure size 432x288 with 2 Axes>"
      ]
     },
     "metadata": {
      "needs_background": "light"
     },
     "output_type": "display_data"
    }
   ],
   "source": [
    "#Using variable modelSV for Support Vector Machine\n",
    "modelSV = SVC(gamma='auto')\n",
    "#To fit this data of training set of X and Y to the model\n",
    "modelSV.fit(X_train,Y_train)\n",
    "#To define the variable pred_svm to predict in boolean value \n",
    "pred_svm = modelSV.predict(X_test)\n",
    "\n",
    "#To test how accurately the predition of SVM matches with the original data set\n",
    "acc1 =accuracy_score(pred_svm, Y_test)\n",
    "print(\"Accuracy\" , acc1)\n",
    "\n",
    "#To find the score by cross evaluation\n",
    "result_svm = cross_val_score(modelSV, features,target,cv=10, scoring = \"accuracy\")\n",
    "print(\"Cross_val score\", result_svm.mean())\n",
    "\n",
    "#To use a confusion matrix to describe the performance of a classification model \n",
    "#Graphical representation using colour coded heatmap \n",
    "y_pred = cross_val_predict(modelRF,features,target, cv=10)\n",
    "sns.heatmap(confusion_matrix(y_pred,target),cmap=\"summer\",annot=True,fmt=\"3.0f\")"
   ]
  },
  {
   "cell_type": "code",
   "execution_count": 181,
   "metadata": {},
   "outputs": [
    {
     "name": "stdout",
     "output_type": "stream",
     "text": [
      "The Accuracy =  0.6908333333333332\n"
     ]
    },
    {
     "data": {
      "text/plain": [
       "<matplotlib.axes._subplots.AxesSubplot at 0x26dab2653d0>"
      ]
     },
     "execution_count": 181,
     "metadata": {},
     "output_type": "execute_result"
    },
    {
     "data": {
      "image/png": "[encoded data removed]",
      "text/plain": [
       "<Figure size 432x288 with 2 Axes>"
      ]
     },
     "metadata": {
      "needs_background": "light"
     },
     "output_type": "display_data"
    }
   ],
   "source": [
    "#To find the accuracy by cross evaluation in the training set \n",
    "trainresult_SV = cross_val_score(modelSV,X_train,Y_train,cv=10,scoring=\"accuracy\")\n",
    "print(\"The Accuracy = \", trainresult_SV.mean())\n",
    "#To use a confusion matrix to describe the performance of the trained result \n",
    "#Graphical representation using colour coded heatmap \n",
    "y_pred = cross_val_predict(modelSV,X_train,Y_train,cv=10)\n",
    "sns.heatmap(confusion_matrix(y_pred,Y_train),cmap=\"summer\",annot=True,fmt=\"3.0f\")\n"
   ]
  },
  {
   "cell_type": "code",
   "execution_count": 182,
   "metadata": {},
   "outputs": [
    {
     "name": "stdout",
     "output_type": "stream",
     "text": [
      "The Accuracy =  0.6254545454545454\n"
     ]
    },
    {
     "data": {
      "text/plain": [
       "<matplotlib.axes._subplots.AxesSubplot at 0x26dab26f040>"
      ]
     },
     "execution_count": 182,
     "metadata": {},
     "output_type": "execute_result"
    },
    {
     "data": {
      "image/png": "[encoded data removed]",
      "text/plain": [
       "<Figure size 432x288 with 2 Axes>"
      ]
     },
     "metadata": {
      "needs_background": "light"
     },
     "output_type": "display_data"
    }
   ],
   "source": [
    "#To find the accuracy by cross evaluation in the testing set\n",
    "testresult_SV = cross_val_score(modelSV,X_test,Y_test,cv=10,scoring=\"accuracy\")\n",
    "print(\"The Accuracy = \", testresult_SV.mean())\n",
    "#To use a confusion matrix to describe the performance of a testing set \n",
    "#Graphical representation using colour coded heatmap\n",
    "y_pred = cross_val_predict(modelSV,X_test,Y_test,cv=10)\n",
    "sns.heatmap(confusion_matrix(y_pred,Y_test),cmap=\"summer\",annot=True,fmt=\"3.0f\")"
   ]
  },
  {
   "cell_type": "markdown",
   "metadata": {},
   "source": [
    "## 7.7 AdaBoost -- 7"
   ]
  },
  {
   "cell_type": "markdown",
   "metadata": {},
   "source": [
    "### AdaBoost is an ensemble learning method (also known as “meta-learning”) which was initially created to increase the efficiency of binary classifiers. AdaBoost uses an iterative approach to learn from the mistakes of weak classifiers, and turn them into strong ones"
   ]
  },
  {
   "cell_type": "code",
   "execution_count": 183,
   "metadata": {},
   "outputs": [
    {
     "name": "stdout",
     "output_type": "stream",
     "text": [
      "Acc =  0.6728971962616822\n",
      "Cross val score  0.6944444444444444\n"
     ]
    },
    {
     "data": {
      "text/plain": [
       "<matplotlib.axes._subplots.AxesSubplot at 0x26dab362970>"
      ]
     },
     "execution_count": 183,
     "metadata": {},
     "output_type": "execute_result"
    },
    {
     "data": {
      "image/png": "[encoded data removed]",
      "text/plain": [
       "<Figure size 432x288 with 2 Axes>"
      ]
     },
     "metadata": {
      "needs_background": "light"
     },
     "output_type": "display_data"
    }
   ],
   "source": [
    "#Using variable modelAB for AdaBoost\n",
    "modelAB = AdaBoostClassifier()\n",
    "#To fit this data of training set of X and Y to the model\n",
    "modelAB.fit(X_train,Y_train)\n",
    "#To define the variable pred_AB to predict in boolean value \n",
    "pred_AB = modelAB.predict(X_test)\n",
    "#To test how accurately the predition of AB matches with the original data set\n",
    "acc1 = accuracy_score(pred_AB, Y_test)\n",
    "print(\"Acc = \", acc1)\n",
    "#To find the score by cross evaluation\n",
    "result_AB = cross_val_score(modelAB, features,target, cv=10, scoring=\"accuracy\")\n",
    "print(\"Cross val score \", result_AB.mean())\n",
    "#To use a confusion matrix to describe the performance of a classification model \n",
    "#Graphical representation using colour coded heatmap \n",
    "y_pred = cross_val_predict(modelAB, features, target, cv=10)\n",
    "sns.heatmap(confusion_matrix(y_pred,target),cmap=\"summer\",annot=True,fmt=\"3.0f\")"
   ]
  },
  {
   "cell_type": "code",
   "execution_count": 184,
   "metadata": {},
   "outputs": [
    {
     "name": "stdout",
     "output_type": "stream",
     "text": [
      "The Accuracy =  0.6823333333333332\n"
     ]
    },
    {
     "data": {
      "text/plain": [
       "<matplotlib.axes._subplots.AxesSubplot at 0x26dab2ed070>"
      ]
     },
     "execution_count": 184,
     "metadata": {},
     "output_type": "execute_result"
    },
    {
     "data": {
      "image/png": "[encoded data removed]",
      "text/plain": [
       "<Figure size 432x288 with 2 Axes>"
      ]
     },
     "metadata": {
      "needs_background": "light"
     },
     "output_type": "display_data"
    }
   ],
   "source": [
    "#To find the accuracy by cross evaluation in the training set \n",
    "trainresult_AB = cross_val_score(modelAB,X_train,Y_train,cv=10,scoring=\"accuracy\")\n",
    "print(\"The Accuracy = \", trainresult_AB.mean())\n",
    "#To use a confusion matrix to describe the performance of the trained result \n",
    "#Graphical representation using colour coded heatmap \n",
    "y_pred = cross_val_predict(modelAB,X_train,Y_train,cv=10)\n",
    "sns.heatmap(confusion_matrix(y_pred,Y_train),cmap=\"summer\",annot=True,fmt=\"3.0f\")"
   ]
  },
  {
   "cell_type": "code",
   "execution_count": 185,
   "metadata": {},
   "outputs": [
    {
     "name": "stdout",
     "output_type": "stream",
     "text": [
      "The Accuracy =  0.6536363636363636\n"
     ]
    },
    {
     "data": {
      "text/plain": [
       "<matplotlib.axes._subplots.AxesSubplot at 0x26dab4653a0>"
      ]
     },
     "execution_count": 185,
     "metadata": {},
     "output_type": "execute_result"
    },
    {
     "data": {
      "image/png": "[encoded data removed]",
      "text/plain": [
       "<Figure size 432x288 with 2 Axes>"
      ]
     },
     "metadata": {
      "needs_background": "light"
     },
     "output_type": "display_data"
    }
   ],
   "source": [
    "#To find the accuracy by cross evaluation in the testing set\n",
    "testresult_AB = cross_val_score(modelAB,X_test,Y_test,cv=10,scoring=\"accuracy\")\n",
    "print(\"The Accuracy = \", testresult_AB.mean())\n",
    "#To use a confusion matrix to describe the performance of a testing set \n",
    "#Graphical representation using colour coded heatmap\n",
    "y_pred = cross_val_predict(modelAB,X_test,Y_test,cv=10)\n",
    "sns.heatmap(confusion_matrix(y_pred,Y_test),cmap=\"summer\",annot=True,fmt=\"3.0f\")"
   ]
  },
  {
   "cell_type": "markdown",
   "metadata": {},
   "source": [
    "## 7.8 Gradient Boosting"
   ]
  },
  {
   "cell_type": "markdown",
   "metadata": {},
   "source": [
    "### Gradient Boosting trains many models in a gradual, additive and sequential manner. The major difference between AdaBoost and Gradient Boosting Algorithm is how the two algorithms identify the shortcomings of weak learners (eg. decision trees). While the AdaBoost model identifies the shortcomings by using high weight data points, gradient boosting performs the same by using gradients in the loss function (y=ax+b+e , e needs a special mention as it is the error term). The loss function is a measure indicating how good are model’s coefficients are at fitting the underlying data. A logical understanding of loss function would depend on what we are trying to optimise. "
   ]
  },
  {
   "cell_type": "code",
   "execution_count": 186,
   "metadata": {},
   "outputs": [
    {
     "name": "stdout",
     "output_type": "stream",
     "text": [
      "The accuracy  0.7289719626168224\n",
      "cross val score  0.7252380952380952\n"
     ]
    },
    {
     "data": {
      "text/plain": [
       "<matplotlib.axes._subplots.AxesSubplot at 0x26daadf1b20>"
      ]
     },
     "execution_count": 186,
     "metadata": {},
     "output_type": "execute_result"
    },
    {
     "data": {
      "image/png": "[encoded data removed]",
      "text/plain": [
       "<Figure size 432x288 with 2 Axes>"
      ]
     },
     "metadata": {
      "needs_background": "light"
     },
     "output_type": "display_data"
    }
   ],
   "source": [
    "#Using variable modelGB for Gradient Boosting\n",
    "modelGB =GradientBoostingClassifier()\n",
    "#To fit this data of training set of X and Y to the model\n",
    "modelGB.fit(X_train, Y_train)\n",
    "#To define the variable pred_gb to predict in boolean value\n",
    "pred_gb = modelGB.predict(X_test)\n",
    "#To test how accurately the predition of GB matches with the original data set\n",
    "acc1 = accuracy_score(pred_gb, Y_test)\n",
    "print(\"The accuracy \", acc1)\n",
    "\n",
    "#To find the score by cross evaluation\n",
    "result_GB = cross_val_score(modelGB, features, target, cv=10, scoring=\"accuracy\")\n",
    "print(\"cross val score \", result_GB.mean())\n",
    "\n",
    "#To use a confusion matrix to describe the performance of a classification model \n",
    "#Graphical representation using colour coded heatmap \n",
    "y_pred = cross_val_predict(modelGB, features, target, cv=10)\n",
    "sns.heatmap(confusion_matrix(y_pred,target),cmap=\"summer\",annot=True,fmt=\"3.0f\")"
   ]
  },
  {
   "cell_type": "code",
   "execution_count": 187,
   "metadata": {},
   "outputs": [
    {
     "name": "stdout",
     "output_type": "stream",
     "text": [
      "The Accuracy =  0.7146666666666667\n"
     ]
    },
    {
     "data": {
      "text/plain": [
       "<matplotlib.axes._subplots.AxesSubplot at 0x26dab54a9a0>"
      ]
     },
     "execution_count": 187,
     "metadata": {},
     "output_type": "execute_result"
    },
    {
     "data": {
      "image/png": "[encoded data removed]",
      "text/plain": [
       "<Figure size 432x288 with 2 Axes>"
      ]
     },
     "metadata": {
      "needs_background": "light"
     },
     "output_type": "display_data"
    }
   ],
   "source": [
    "#To find the accuracy by cross evaluation in the training set \n",
    "trainresult_GB = cross_val_score(modelGB,X_train,Y_train,cv=10,scoring=\"accuracy\")\n",
    "print(\"The Accuracy = \", trainresult_GB.mean())\n",
    "#To use a confusion matrix to describe the performance of the trained result \n",
    "#Graphical representation using colour coded heatmap \n",
    "y_pred = cross_val_predict(modelGB,X_train,Y_train,cv=10)\n",
    "sns.heatmap(confusion_matrix(y_pred,Y_train),cmap=\"summer\",annot=True,fmt=\"3.0f\")"
   ]
  },
  {
   "cell_type": "code",
   "execution_count": 188,
   "metadata": {},
   "outputs": [
    {
     "name": "stdout",
     "output_type": "stream",
     "text": [
      "The Accuracy =  0.6345454545454545\n"
     ]
    },
    {
     "data": {
      "text/plain": [
       "<matplotlib.axes._subplots.AxesSubplot at 0x26dab5b0370>"
      ]
     },
     "execution_count": 188,
     "metadata": {},
     "output_type": "execute_result"
    },
    {
     "data": {
      "image/png": "[encoded data removed]",
      "text/plain": [
       "<Figure size 432x288 with 2 Axes>"
      ]
     },
     "metadata": {
      "needs_background": "light"
     },
     "output_type": "display_data"
    }
   ],
   "source": [
    "#To find the accuracy by cross evaluation in the testing set\n",
    "testresult_GB = cross_val_score(modelGB,X_test,Y_test,cv=10,scoring=\"accuracy\")\n",
    "print(\"The Accuracy = \", testresult_GB.mean())\n",
    "#To use a confusion matrix to describe the performance of a testing set \n",
    "#Graphical representation using colour coded heatmap\n",
    "y_pred = cross_val_predict(modelGB,X_test,Y_test,cv=10)\n",
    "sns.heatmap(confusion_matrix(y_pred,Y_test),cmap=\"summer\",annot=True,fmt=\"3.0f\")"
   ]
  },
  {
   "cell_type": "markdown",
   "metadata": {},
   "source": [
    "## 7.9 Bagging"
   ]
  },
  {
   "cell_type": "markdown",
   "metadata": {},
   "source": [
    "### A Bagging classifier is an ensemble meta-estimator that fits base classifiers each on random subsets of the original dataset and then aggregate their individual predictions (either by voting or by averaging) to form a final prediction. Such a meta-estimator can typically be used as a way to reduce the variance of a black-box estimator (e.g., a decision tree), by introducing randomization into its construction procedure and then making an ensemble out of it.\n"
   ]
  },
  {
   "cell_type": "code",
   "execution_count": 189,
   "metadata": {},
   "outputs": [
    {
     "data": {
      "text/plain": [
       "BaggingClassifier(base_estimator=DecisionTreeClassifier(random_state=1))"
      ]
     },
     "execution_count": 189,
     "metadata": {},
     "output_type": "execute_result"
    }
   ],
   "source": [
    "#Using variable modelBC for Bagging Classification\n",
    "modelBC = BaggingClassifier(tree.DecisionTreeClassifier(random_state=1))\n",
    "#To fit this data of training set of X and Y to the model\n",
    "modelBC.fit(X_train, Y_train)"
   ]
  },
  {
   "cell_type": "code",
   "execution_count": 190,
   "metadata": {},
   "outputs": [
    {
     "name": "stdout",
     "output_type": "stream",
     "text": [
      "The accuracy  0.7383177570093458\n",
      "cross val score  0.7752380952380952\n"
     ]
    },
    {
     "data": {
      "text/plain": [
       "<matplotlib.axes._subplots.AxesSubplot at 0x26dab637a00>"
      ]
     },
     "execution_count": 190,
     "metadata": {},
     "output_type": "execute_result"
    },
    {
     "data": {
      "image/png": "[encoded data removed]",
      "text/plain": [
       "<Figure size 432x288 with 2 Axes>"
      ]
     },
     "metadata": {
      "needs_background": "light"
     },
     "output_type": "display_data"
    }
   ],
   "source": [
    "#To define the variable pred_bc to predict in boolean value\n",
    "pred_bc = modelBC.predict(X_test)\n",
    "#To test how accurately the predition of BC matches with the original data set\n",
    "acc1 = accuracy_score(pred_bc, Y_test)\n",
    "print(\"The accuracy \", acc1)\n",
    "\n",
    "#To find the score by cross evaluation\n",
    "result_BC = cross_val_score(modelBC, features, target, cv=10, scoring=\"accuracy\")\n",
    "print(\"cross val score \", result_BC.mean())\n",
    "#To use a confusion matrix to describe the performance of a classification model \n",
    "#Graphical representation using colour coded heatmap \n",
    "y_pred = cross_val_predict(modelBC, features, target, cv=10)\n",
    "sns.heatmap(confusion_matrix(y_pred,target),cmap=\"summer\",annot=True,fmt=\"3.0f\")\n",
    "\n"
   ]
  },
  {
   "cell_type": "code",
   "execution_count": 191,
   "metadata": {},
   "outputs": [
    {
     "name": "stdout",
     "output_type": "stream",
     "text": [
      "The Accuracy =  0.7144999999999999\n"
     ]
    },
    {
     "data": {
      "text/plain": [
       "<matplotlib.axes._subplots.AxesSubplot at 0x26dab6e96d0>"
      ]
     },
     "execution_count": 191,
     "metadata": {},
     "output_type": "execute_result"
    },
    {
     "data": {
      "image/png": "[encoded data removed]",
      "text/plain": [
       "<Figure size 432x288 with 2 Axes>"
      ]
     },
     "metadata": {
      "needs_background": "light"
     },
     "output_type": "display_data"
    }
   ],
   "source": [
    "#To find the accuracy by cross evaluation in the training set \n",
    "trainresult_BC = cross_val_score(modelBC,X_train,Y_train,cv=10,scoring=\"accuracy\")\n",
    "print(\"The Accuracy = \", trainresult_BC.mean())\n",
    "#To use a confusion matrix to describe the performance of the trained result \n",
    "#Graphical representation using colour coded heatmap \n",
    "y_pred = cross_val_predict(modelBC,X_train,Y_train,cv=10)\n",
    "sns.heatmap(confusion_matrix(y_pred,Y_train),cmap=\"summer\",annot=True,fmt=\"3.0f\")"
   ]
  },
  {
   "cell_type": "code",
   "execution_count": 192,
   "metadata": {},
   "outputs": [
    {
     "name": "stdout",
     "output_type": "stream",
     "text": [
      "The Accuracy =  0.6236363636363637\n"
     ]
    },
    {
     "data": {
      "text/plain": [
       "<matplotlib.axes._subplots.AxesSubplot at 0x26dab776ac0>"
      ]
     },
     "execution_count": 192,
     "metadata": {},
     "output_type": "execute_result"
    },
    {
     "data": {
      "image/png": "[encoded data removed]",
      "text/plain": [
       "<Figure size 432x288 with 2 Axes>"
      ]
     },
     "metadata": {
      "needs_background": "light"
     },
     "output_type": "display_data"
    }
   ],
   "source": [
    "#To find the accuracy by cross evaluation in the testing set\n",
    "testresult_BC = cross_val_score(modelBC,X_test,Y_test,cv=10,scoring=\"accuracy\")\n",
    "print(\"The Accuracy = \", testresult_BC.mean())\n",
    "#To use a confusion matrix to describe the performance of a testing set \n",
    "#Graphical representation using colour coded heatmap\n",
    "y_pred = cross_val_predict(modelBC,X_test,Y_test,cv=10)\n",
    "sns.heatmap(confusion_matrix(y_pred,Y_test),cmap=\"summer\",annot=True,fmt=\"3.0f\")"
   ]
  },
  {
   "cell_type": "markdown",
   "metadata": {},
   "source": [
    "# 8.0 MODEL ANALYSIS"
   ]
  },
  {
   "cell_type": "code",
   "execution_count": 193,
   "metadata": {},
   "outputs": [],
   "source": [
    "#To make a dataframe to compare the accuracy of the different methods used to predict the dataset \n",
    "models= pd.DataFrame({ \n",
    "\"Model\" : [\"Logical Regression\",\"Decision Tree\", \"Random Forest\", \"Support Vector Machine\", \"KNN\" , \"Naive Bayes\", \"Ada Boost\", \"Gradient Boost\",\"Bagging\"],\n",
    "\"FullScore\" : [result_LR.mean(),result_tree.mean(),result_RF.mean(),result_svm.mean(), result_knn.mean(), result_NB.mean(), result_AB.mean(), result_GB.mean(),result_BC.mean()],\n",
    "\"TrainScore\": [trainresult_LR.mean(),trainresult_tree.mean(), trainresult_RF.mean(), trainresult_SV.mean(), trainresult_KN.mean(), trainresult_NB.mean(), trainresult_AB.mean(), trainresult_GB.mean(),trainresult_BC.mean()],\n",
    "\"TestScore\" : [testresult_LR.mean(),testresult_tree.mean(), testresult_RF.mean(), testresult_SV.mean(), testresult_KN.mean(), testresult_NB.mean(), testresult_AB.mean(), testresult_GB.mean(),testresult_BC.mean()]\n",
    "})\n"
   ]
  },
  {
   "cell_type": "code",
   "execution_count": 194,
   "metadata": {},
   "outputs": [
    {
     "data": {
      "text/html": [
       "<div>\n",
       "<style scoped>\n",
       "    .dataframe tbody tr th:only-of-type {\n",
       "        vertical-align: middle;\n",
       "    }\n",
       "\n",
       "    .dataframe tbody tr th {\n",
       "        vertical-align: top;\n",
       "    }\n",
       "\n",
       "    .dataframe thead th {\n",
       "        text-align: right;\n",
       "    }\n",
       "</style>\n",
       "<table border=\"1\" class=\"dataframe\">\n",
       "  <thead>\n",
       "    <tr style=\"text-align: right;\">\n",
       "      <th></th>\n",
       "      <th>Model</th>\n",
       "      <th>FullScore</th>\n",
       "      <th>TrainScore</th>\n",
       "      <th>TestScore</th>\n",
       "    </tr>\n",
       "  </thead>\n",
       "  <tbody>\n",
       "    <tr>\n",
       "      <th>0</th>\n",
       "      <td>Logical Regression</td>\n",
       "      <td>0.699286</td>\n",
       "      <td>0.670333</td>\n",
       "      <td>0.700000</td>\n",
       "    </tr>\n",
       "    <tr>\n",
       "      <th>1</th>\n",
       "      <td>Decision Tree</td>\n",
       "      <td>0.708492</td>\n",
       "      <td>0.694500</td>\n",
       "      <td>0.615455</td>\n",
       "    </tr>\n",
       "    <tr>\n",
       "      <th>2</th>\n",
       "      <td>Random Forest</td>\n",
       "      <td>0.772540</td>\n",
       "      <td>0.747000</td>\n",
       "      <td>0.690909</td>\n",
       "    </tr>\n",
       "    <tr>\n",
       "      <th>3</th>\n",
       "      <td>Support Vector Machine</td>\n",
       "      <td>0.685714</td>\n",
       "      <td>0.690833</td>\n",
       "      <td>0.625455</td>\n",
       "    </tr>\n",
       "    <tr>\n",
       "      <th>4</th>\n",
       "      <td>KNN</td>\n",
       "      <td>0.649444</td>\n",
       "      <td>0.578000</td>\n",
       "      <td>0.609091</td>\n",
       "    </tr>\n",
       "  </tbody>\n",
       "</table>\n",
       "</div>"
      ],
      "text/plain": [
       "                    Model  FullScore  TrainScore  TestScore\n",
       "0      Logical Regression   0.699286    0.670333   0.700000\n",
       "1           Decision Tree   0.708492    0.694500   0.615455\n",
       "2           Random Forest   0.772540    0.747000   0.690909\n",
       "3  Support Vector Machine   0.685714    0.690833   0.625455\n",
       "4                     KNN   0.649444    0.578000   0.609091"
      ]
     },
     "execution_count": 194,
     "metadata": {},
     "output_type": "execute_result"
    }
   ],
   "source": [
    "models.head()"
   ]
  },
  {
   "cell_type": "code",
   "execution_count": 195,
   "metadata": {},
   "outputs": [
    {
     "data": {
      "text/html": [
       "<div>\n",
       "<style scoped>\n",
       "    .dataframe tbody tr th:only-of-type {\n",
       "        vertical-align: middle;\n",
       "    }\n",
       "\n",
       "    .dataframe tbody tr th {\n",
       "        vertical-align: top;\n",
       "    }\n",
       "\n",
       "    .dataframe thead th {\n",
       "        text-align: right;\n",
       "    }\n",
       "</style>\n",
       "<table border=\"1\" class=\"dataframe\">\n",
       "  <thead>\n",
       "    <tr style=\"text-align: right;\">\n",
       "      <th></th>\n",
       "      <th>Model</th>\n",
       "      <th>FullScore</th>\n",
       "      <th>TrainScore</th>\n",
       "      <th>TestScore</th>\n",
       "    </tr>\n",
       "  </thead>\n",
       "  <tbody>\n",
       "    <tr>\n",
       "      <th>4</th>\n",
       "      <td>KNN</td>\n",
       "      <td>0.649444</td>\n",
       "      <td>0.578000</td>\n",
       "      <td>0.609091</td>\n",
       "    </tr>\n",
       "    <tr>\n",
       "      <th>3</th>\n",
       "      <td>Support Vector Machine</td>\n",
       "      <td>0.685714</td>\n",
       "      <td>0.690833</td>\n",
       "      <td>0.625455</td>\n",
       "    </tr>\n",
       "    <tr>\n",
       "      <th>5</th>\n",
       "      <td>Naive Bayes</td>\n",
       "      <td>0.693413</td>\n",
       "      <td>0.686167</td>\n",
       "      <td>0.709091</td>\n",
       "    </tr>\n",
       "    <tr>\n",
       "      <th>6</th>\n",
       "      <td>Ada Boost</td>\n",
       "      <td>0.694444</td>\n",
       "      <td>0.682333</td>\n",
       "      <td>0.653636</td>\n",
       "    </tr>\n",
       "    <tr>\n",
       "      <th>0</th>\n",
       "      <td>Logical Regression</td>\n",
       "      <td>0.699286</td>\n",
       "      <td>0.670333</td>\n",
       "      <td>0.700000</td>\n",
       "    </tr>\n",
       "    <tr>\n",
       "      <th>1</th>\n",
       "      <td>Decision Tree</td>\n",
       "      <td>0.708492</td>\n",
       "      <td>0.694500</td>\n",
       "      <td>0.615455</td>\n",
       "    </tr>\n",
       "    <tr>\n",
       "      <th>7</th>\n",
       "      <td>Gradient Boost</td>\n",
       "      <td>0.725238</td>\n",
       "      <td>0.714667</td>\n",
       "      <td>0.634545</td>\n",
       "    </tr>\n",
       "    <tr>\n",
       "      <th>2</th>\n",
       "      <td>Random Forest</td>\n",
       "      <td>0.772540</td>\n",
       "      <td>0.747000</td>\n",
       "      <td>0.690909</td>\n",
       "    </tr>\n",
       "    <tr>\n",
       "      <th>8</th>\n",
       "      <td>Bagging</td>\n",
       "      <td>0.775238</td>\n",
       "      <td>0.714500</td>\n",
       "      <td>0.623636</td>\n",
       "    </tr>\n",
       "  </tbody>\n",
       "</table>\n",
       "</div>"
      ],
      "text/plain": [
       "                    Model  FullScore  TrainScore  TestScore\n",
       "4                     KNN   0.649444    0.578000   0.609091\n",
       "3  Support Vector Machine   0.685714    0.690833   0.625455\n",
       "5             Naive Bayes   0.693413    0.686167   0.709091\n",
       "6               Ada Boost   0.694444    0.682333   0.653636\n",
       "0      Logical Regression   0.699286    0.670333   0.700000\n",
       "1           Decision Tree   0.708492    0.694500   0.615455\n",
       "7          Gradient Boost   0.725238    0.714667   0.634545\n",
       "2           Random Forest   0.772540    0.747000   0.690909\n",
       "8                 Bagging   0.775238    0.714500   0.623636"
      ]
     },
     "execution_count": 195,
     "metadata": {},
     "output_type": "execute_result"
    }
   ],
   "source": [
    "#To order the models by ascending order of their FullScore\n",
    "models.sort_values(by=\"FullScore\")"
   ]
  },
  {
   "cell_type": "code",
   "execution_count": 196,
   "metadata": {},
   "outputs": [],
   "source": [
    "# Clearly SVM, KNN and Random Forest have the top three accuracy out of all the methods used "
   ]
  },
  {
   "cell_type": "code",
   "execution_count": 197,
   "metadata": {},
   "outputs": [
    {
     "data": {
      "text/html": [
       "<div>\n",
       "<style scoped>\n",
       "    .dataframe tbody tr th:only-of-type {\n",
       "        vertical-align: middle;\n",
       "    }\n",
       "\n",
       "    .dataframe tbody tr th {\n",
       "        vertical-align: top;\n",
       "    }\n",
       "\n",
       "    .dataframe thead th {\n",
       "        text-align: right;\n",
       "    }\n",
       "</style>\n",
       "<table border=\"1\" class=\"dataframe\">\n",
       "  <thead>\n",
       "    <tr style=\"text-align: right;\">\n",
       "      <th></th>\n",
       "      <th>Model</th>\n",
       "      <th>FullScore</th>\n",
       "      <th>TrainScore</th>\n",
       "      <th>TestScore</th>\n",
       "    </tr>\n",
       "  </thead>\n",
       "  <tbody>\n",
       "    <tr>\n",
       "      <th>4</th>\n",
       "      <td>KNN</td>\n",
       "      <td>0.649444</td>\n",
       "      <td>0.578000</td>\n",
       "      <td>0.609091</td>\n",
       "    </tr>\n",
       "    <tr>\n",
       "      <th>0</th>\n",
       "      <td>Logical Regression</td>\n",
       "      <td>0.699286</td>\n",
       "      <td>0.670333</td>\n",
       "      <td>0.700000</td>\n",
       "    </tr>\n",
       "    <tr>\n",
       "      <th>6</th>\n",
       "      <td>Ada Boost</td>\n",
       "      <td>0.694444</td>\n",
       "      <td>0.682333</td>\n",
       "      <td>0.653636</td>\n",
       "    </tr>\n",
       "    <tr>\n",
       "      <th>5</th>\n",
       "      <td>Naive Bayes</td>\n",
       "      <td>0.693413</td>\n",
       "      <td>0.686167</td>\n",
       "      <td>0.709091</td>\n",
       "    </tr>\n",
       "    <tr>\n",
       "      <th>3</th>\n",
       "      <td>Support Vector Machine</td>\n",
       "      <td>0.685714</td>\n",
       "      <td>0.690833</td>\n",
       "      <td>0.625455</td>\n",
       "    </tr>\n",
       "    <tr>\n",
       "      <th>1</th>\n",
       "      <td>Decision Tree</td>\n",
       "      <td>0.708492</td>\n",
       "      <td>0.694500</td>\n",
       "      <td>0.615455</td>\n",
       "    </tr>\n",
       "    <tr>\n",
       "      <th>8</th>\n",
       "      <td>Bagging</td>\n",
       "      <td>0.775238</td>\n",
       "      <td>0.714500</td>\n",
       "      <td>0.623636</td>\n",
       "    </tr>\n",
       "    <tr>\n",
       "      <th>7</th>\n",
       "      <td>Gradient Boost</td>\n",
       "      <td>0.725238</td>\n",
       "      <td>0.714667</td>\n",
       "      <td>0.634545</td>\n",
       "    </tr>\n",
       "    <tr>\n",
       "      <th>2</th>\n",
       "      <td>Random Forest</td>\n",
       "      <td>0.772540</td>\n",
       "      <td>0.747000</td>\n",
       "      <td>0.690909</td>\n",
       "    </tr>\n",
       "  </tbody>\n",
       "</table>\n",
       "</div>"
      ],
      "text/plain": [
       "                    Model  FullScore  TrainScore  TestScore\n",
       "4                     KNN   0.649444    0.578000   0.609091\n",
       "0      Logical Regression   0.699286    0.670333   0.700000\n",
       "6               Ada Boost   0.694444    0.682333   0.653636\n",
       "5             Naive Bayes   0.693413    0.686167   0.709091\n",
       "3  Support Vector Machine   0.685714    0.690833   0.625455\n",
       "1           Decision Tree   0.708492    0.694500   0.615455\n",
       "8                 Bagging   0.775238    0.714500   0.623636\n",
       "7          Gradient Boost   0.725238    0.714667   0.634545\n",
       "2           Random Forest   0.772540    0.747000   0.690909"
      ]
     },
     "execution_count": 197,
     "metadata": {},
     "output_type": "execute_result"
    }
   ],
   "source": [
    "#To order the models by ascending order of their TrainScore\n",
    "models.sort_values(by=\"TrainScore\")"
   ]
  },
  {
   "cell_type": "code",
   "execution_count": 198,
   "metadata": {},
   "outputs": [
    {
     "data": {
      "text/html": [
       "<div>\n",
       "<style scoped>\n",
       "    .dataframe tbody tr th:only-of-type {\n",
       "        vertical-align: middle;\n",
       "    }\n",
       "\n",
       "    .dataframe tbody tr th {\n",
       "        vertical-align: top;\n",
       "    }\n",
       "\n",
       "    .dataframe thead th {\n",
       "        text-align: right;\n",
       "    }\n",
       "</style>\n",
       "<table border=\"1\" class=\"dataframe\">\n",
       "  <thead>\n",
       "    <tr style=\"text-align: right;\">\n",
       "      <th></th>\n",
       "      <th>Model</th>\n",
       "      <th>FullScore</th>\n",
       "      <th>TrainScore</th>\n",
       "      <th>TestScore</th>\n",
       "    </tr>\n",
       "  </thead>\n",
       "  <tbody>\n",
       "    <tr>\n",
       "      <th>4</th>\n",
       "      <td>KNN</td>\n",
       "      <td>0.649444</td>\n",
       "      <td>0.578000</td>\n",
       "      <td>0.609091</td>\n",
       "    </tr>\n",
       "    <tr>\n",
       "      <th>1</th>\n",
       "      <td>Decision Tree</td>\n",
       "      <td>0.708492</td>\n",
       "      <td>0.694500</td>\n",
       "      <td>0.615455</td>\n",
       "    </tr>\n",
       "    <tr>\n",
       "      <th>8</th>\n",
       "      <td>Bagging</td>\n",
       "      <td>0.775238</td>\n",
       "      <td>0.714500</td>\n",
       "      <td>0.623636</td>\n",
       "    </tr>\n",
       "    <tr>\n",
       "      <th>3</th>\n",
       "      <td>Support Vector Machine</td>\n",
       "      <td>0.685714</td>\n",
       "      <td>0.690833</td>\n",
       "      <td>0.625455</td>\n",
       "    </tr>\n",
       "    <tr>\n",
       "      <th>7</th>\n",
       "      <td>Gradient Boost</td>\n",
       "      <td>0.725238</td>\n",
       "      <td>0.714667</td>\n",
       "      <td>0.634545</td>\n",
       "    </tr>\n",
       "    <tr>\n",
       "      <th>6</th>\n",
       "      <td>Ada Boost</td>\n",
       "      <td>0.694444</td>\n",
       "      <td>0.682333</td>\n",
       "      <td>0.653636</td>\n",
       "    </tr>\n",
       "    <tr>\n",
       "      <th>2</th>\n",
       "      <td>Random Forest</td>\n",
       "      <td>0.772540</td>\n",
       "      <td>0.747000</td>\n",
       "      <td>0.690909</td>\n",
       "    </tr>\n",
       "    <tr>\n",
       "      <th>0</th>\n",
       "      <td>Logical Regression</td>\n",
       "      <td>0.699286</td>\n",
       "      <td>0.670333</td>\n",
       "      <td>0.700000</td>\n",
       "    </tr>\n",
       "    <tr>\n",
       "      <th>5</th>\n",
       "      <td>Naive Bayes</td>\n",
       "      <td>0.693413</td>\n",
       "      <td>0.686167</td>\n",
       "      <td>0.709091</td>\n",
       "    </tr>\n",
       "  </tbody>\n",
       "</table>\n",
       "</div>"
      ],
      "text/plain": [
       "                    Model  FullScore  TrainScore  TestScore\n",
       "4                     KNN   0.649444    0.578000   0.609091\n",
       "1           Decision Tree   0.708492    0.694500   0.615455\n",
       "8                 Bagging   0.775238    0.714500   0.623636\n",
       "3  Support Vector Machine   0.685714    0.690833   0.625455\n",
       "7          Gradient Boost   0.725238    0.714667   0.634545\n",
       "6               Ada Boost   0.694444    0.682333   0.653636\n",
       "2           Random Forest   0.772540    0.747000   0.690909\n",
       "0      Logical Regression   0.699286    0.670333   0.700000\n",
       "5             Naive Bayes   0.693413    0.686167   0.709091"
      ]
     },
     "execution_count": 198,
     "metadata": {},
     "output_type": "execute_result"
    }
   ],
   "source": [
    "#To order the models by ascending order of their TestScore\n",
    "models.sort_values(by=\"TestScore\")"
   ]
  },
  {
   "cell_type": "markdown",
   "metadata": {},
   "source": [
    "# 9.0 MODEL GRAPHICAL ANALYSIS"
   ]
  },
  {
   "cell_type": "code",
   "execution_count": 199,
   "metadata": {},
   "outputs": [
    {
     "data": {
      "text/plain": [
       "<matplotlib.axes._subplots.AxesSubplot at 0x26dab7ed1f0>"
      ]
     },
     "execution_count": 199,
     "metadata": {},
     "output_type": "execute_result"
    },
    {
     "data": {
      "image/png": "[encoded data removed]",
      "text/plain": [
       "<Figure size 432x288 with 2 Axes>"
      ]
     },
     "metadata": {
      "needs_background": "light"
     },
     "output_type": "display_data"
    }
   ],
   "source": [
    "#To Graphical represent the models using colour coded heatmap\n",
    "sns.heatmap(models.corr()) "
   ]
  },
  {
   "cell_type": "code",
   "execution_count": 200,
   "metadata": {},
   "outputs": [
    {
     "data": {
      "text/plain": [
       "Text(0, 0.5, 'FullScore Accuracy')"
      ]
     },
     "execution_count": 200,
     "metadata": {},
     "output_type": "execute_result"
    },
    {
     "data": {
      "image/png": "[encoded data removed]",
      "text/plain": [
       "<Figure size 432x288 with 1 Axes>"
      ]
     },
     "metadata": {
      "needs_background": "light"
     },
     "output_type": "display_data"
    }
   ],
   "source": [
    "%matplotlib inline\n",
    "pd.crosstab(models.Model,models.FullScore).plot(kind='bar')\n",
    "plt.title('Full Score of the models')\n",
    "plt.xlabel('Models')\n",
    "plt.ylabel('FullScore Accuracy')"
   ]
  },
  {
   "cell_type": "code",
   "execution_count": 201,
   "metadata": {},
   "outputs": [
    {
     "data": {
      "text/plain": [
       "(356, 4)"
      ]
     },
     "execution_count": 201,
     "metadata": {},
     "output_type": "execute_result"
    }
   ],
   "source": [
    "data.shape"
   ]
  },
  {
   "cell_type": "markdown",
   "metadata": {},
   "source": [
    "# 10.0 MAX VOTING"
   ]
  },
  {
   "cell_type": "markdown",
   "metadata": {},
   "source": [
    "### The max voting method is generally used for classification problems. In this technique, multiple models are used to make predictions for each data point. The predictions by each model are considered as a ‘vote’. The predictions which we get from the majority of the models are used as the final prediction."
   ]
  },
  {
   "cell_type": "markdown",
   "metadata": {},
   "source": [
    "## 10.1 METHOD 1"
   ]
  },
  {
   "cell_type": "code",
   "execution_count": 202,
   "metadata": {},
   "outputs": [],
   "source": [
    "# Used this method to explain and show clearly what max voting does. "
   ]
  },
  {
   "cell_type": "code",
   "execution_count": 203,
   "metadata": {},
   "outputs": [],
   "source": [
    "final_pred = np.array([])\n",
    "for i in range(0,len(X_test)):\n",
    "    final_pred = np.append(final_pred, statistics.mode([pred_svm[i], pred_bc[i], pred_Knn[i]]))\n",
    "    #SVM, BC and KNN being the top three accuracy models, we take a mode of them all. "
   ]
  },
  {
   "cell_type": "code",
   "execution_count": 204,
   "metadata": {},
   "outputs": [
    {
     "data": {
      "text/plain": [
       "array([1., 1., 0., 0., 1., 0., 0., 1., 0., 1., 0., 0., 0., 0., 1., 1., 1.,\n",
       "       1., 0., 1., 1., 1., 1., 1., 1., 1., 0., 1., 0., 1., 0., 0., 0., 1.,\n",
       "       1., 1., 1., 1., 0., 0., 0., 1., 0., 0., 1., 1., 1., 1., 0., 1., 0.,\n",
       "       1., 1., 0., 0., 0., 1., 1., 0., 1., 1., 0., 1., 0., 0., 0., 1., 1.,\n",
       "       0., 0., 0., 1., 0., 0., 1., 0., 0., 1., 1., 1., 1., 0., 1., 0., 1.,\n",
       "       0., 1., 1., 1., 0., 0., 0., 0., 1., 0., 0., 0., 1., 1., 0., 0., 0.,\n",
       "       1., 1., 1., 1., 1.])"
      ]
     },
     "execution_count": 204,
     "metadata": {},
     "output_type": "execute_result"
    }
   ],
   "source": [
    "\n",
    "final_pred"
   ]
  },
  {
   "cell_type": "code",
   "execution_count": 205,
   "metadata": {},
   "outputs": [],
   "source": [
    "accL =accuracy_score(final_pred, Y_test)"
   ]
  },
  {
   "cell_type": "code",
   "execution_count": 206,
   "metadata": {},
   "outputs": [
    {
     "data": {
      "text/plain": [
       "0.6635514018691588"
      ]
     },
     "execution_count": 206,
     "metadata": {},
     "output_type": "execute_result"
    }
   ],
   "source": [
    "accL"
   ]
  },
  {
   "cell_type": "code",
   "execution_count": 207,
   "metadata": {},
   "outputs": [],
   "source": [
    "#The accuracy is more than that of SVM (the top model)"
   ]
  },
  {
   "cell_type": "markdown",
   "metadata": {},
   "source": [
    "## 10.2 METHOD 2"
   ]
  },
  {
   "cell_type": "code",
   "execution_count": 208,
   "metadata": {},
   "outputs": [],
   "source": [
    "# In this method we can create a model out of all these hence we can find the Cross Val Score for more efficiency"
   ]
  },
  {
   "cell_type": "code",
   "execution_count": 209,
   "metadata": {},
   "outputs": [],
   "source": [
    "MODEL101 = VotingClassifier(estimators=[('bc', modelBC), ('sv', modelSV), ('kn', modelKN)], voting='hard')"
   ]
  },
  {
   "cell_type": "code",
   "execution_count": 210,
   "metadata": {},
   "outputs": [
    {
     "name": "stdout",
     "output_type": "stream",
     "text": [
      "cross val score  0.7166666666666667\n"
     ]
    }
   ],
   "source": [
    "result101 = cross_val_score(MODEL101, features, target, cv=10, scoring=\"accuracy\")\n",
    "print(\"cross val score \", result101.mean())"
   ]
  },
  {
   "cell_type": "code",
   "execution_count": 211,
   "metadata": {},
   "outputs": [],
   "source": [
    "#The cross val score is less than that of the SVM "
   ]
  },
  {
   "cell_type": "markdown",
   "metadata": {},
   "source": [
    "# 11.0 PICKLING "
   ]
  },
  {
   "cell_type": "markdown",
   "metadata": {},
   "source": [
    "## Pickling is the process whereby a Python object hierarchy is converted into a byte stream, and “unpickling” is the inverse operation, whereby a byte stream is converted back into an object hierarchy.\n"
   ]
  },
  {
   "cell_type": "markdown",
   "metadata": {},
   "source": [
    "# pickle.dump(obj, file)\n",
    "## Write the pickled representation of the object obj to the open file object file. \n",
    "\n",
    "# pickle.load(file)\n",
    "### Read the pickled representation of an object from the open file object file and return the reconstituted object hierarchy specified therein. "
   ]
  },
  {
   "cell_type": "code",
   "execution_count": 212,
   "metadata": {},
   "outputs": [],
   "source": [
    "#Since it's the top model \n",
    "SupportVector = SVC(gamma='auto').fit(features,target)"
   ]
  },
  {
   "cell_type": "code",
   "execution_count": 213,
   "metadata": {},
   "outputs": [],
   "source": [
    "pickle.dump(SupportVector, open('MODEL_FINAL','wb'))"
   ]
  },
  {
   "cell_type": "code",
   "execution_count": 214,
   "metadata": {},
   "outputs": [],
   "source": [
    "MODEL_FINAL = pickle.load(open('MODEL_FINAL','rb'))"
   ]
  },
  {
   "cell_type": "code",
   "execution_count": 215,
   "metadata": {},
   "outputs": [
    {
     "name": "stdout",
     "output_type": "stream",
     "text": [
      "[0]\n"
     ]
    }
   ],
   "source": [
    "print(MODEL_FINAL.predict([[638, 3528,  86]]))"
   ]
  },
  {
   "cell_type": "code",
   "execution_count": 216,
   "metadata": {},
   "outputs": [
    {
     "name": "stdout",
     "output_type": "stream",
     "text": [
      "63\n",
      "44\n"
     ]
    }
   ],
   "source": [
    "p = MODEL_FINAL.predict(X_test)\n",
    "#print(X_Test)\n",
    "print(list(p).count(1))\n",
    "print(list(p).count(0))"
   ]
  },
  {
   "cell_type": "code",
   "execution_count": 217,
   "metadata": {},
   "outputs": [],
   "source": [
    "#Since this model is an object in the hardware of this device we can call it from any notebook using the following commented line:\n",
    "#import pickle\n",
    "#MODEL_FINAL = pickle.load(open('MODEL_FINAL','rb'))\n",
    "#print(MODEL_FINAL.predict([[638, 3528,  86]]))"
   ]
  },
  {
   "cell_type": "code",
   "execution_count": null,
   "metadata": {},
   "outputs": [],
   "source": []
  },
  {
   "cell_type": "code",
   "execution_count": null,
   "metadata": {},
   "outputs": [],
   "source": []
  },
  {
   "cell_type": "code",
   "execution_count": null,
   "metadata": {},
   "outputs": [],
   "source": []
  },
  {
   "cell_type": "code",
   "execution_count": null,
   "metadata": {},
   "outputs": [],
   "source": []
  },
  {
   "cell_type": "code",
   "execution_count": null,
   "metadata": {},
   "outputs": [],
   "source": []
  },
  {
   "cell_type": "code",
   "execution_count": null,
   "metadata": {},
   "outputs": [],
   "source": []
  }
 ],
 "metadata": {
  "kernelspec": {
   "display_name": "Python 3",
   "language": "python",
   "name": "python3"
  },
  "language_info": {
   "codemirror_mode": {
    "name": "ipython",
    "version": 3
   },
   "file_extension": ".py",
   "mimetype": "text/x-python",
   "name": "python",
   "nbconvert_exporter": "python",
   "pygments_lexer": "ipython3",
   "version": "3.8.3"
  }
 },
 "nbformat": 4,
 "nbformat_minor": 2
}
